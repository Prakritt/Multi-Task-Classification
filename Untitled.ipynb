{
 "cells": [
  {
   "cell_type": "code",
   "execution_count": 110,
   "id": "ee0ffff1",
   "metadata": {},
   "outputs": [],
   "source": [
    "import pandas as pd\n",
    "from sklearn.preprocessing import LabelEncoder\n",
    "import warnings \n",
    "import nltk\n",
    "from nltk.corpus import stopwords\n",
    "from tensorflow.keras.preprocessing.text import Tokenizer\n",
    "from tensorflow.keras.preprocessing.sequence import pad_sequences\n",
    "from tensorflow import keras \n",
    "import numpy as np \n",
    "import seaborn as sns \n",
    "from sklearn.metrics import confusion_matrix\n",
    "import matplotlib.pyplot as plt "
   ]
  },
  {
   "cell_type": "code",
   "execution_count": 111,
   "id": "a0e1fc26",
   "metadata": {},
   "outputs": [],
   "source": [
    "emotion_df = pd.read_csv(\"emotions.csv\")"
   ]
  },
  {
   "cell_type": "code",
   "execution_count": 112,
   "id": "acabc68f",
   "metadata": {},
   "outputs": [
    {
     "data": {
      "text/html": [
       "<div>\n",
       "<style scoped>\n",
       "    .dataframe tbody tr th:only-of-type {\n",
       "        vertical-align: middle;\n",
       "    }\n",
       "\n",
       "    .dataframe tbody tr th {\n",
       "        vertical-align: top;\n",
       "    }\n",
       "\n",
       "    .dataframe thead th {\n",
       "        text-align: right;\n",
       "    }\n",
       "</style>\n",
       "<table border=\"1\" class=\"dataframe\">\n",
       "  <thead>\n",
       "    <tr style=\"text-align: right;\">\n",
       "      <th></th>\n",
       "      <th>Unnamed: 0</th>\n",
       "      <th>text</th>\n",
       "      <th>label</th>\n",
       "    </tr>\n",
       "  </thead>\n",
       "  <tbody>\n",
       "    <tr>\n",
       "      <th>0</th>\n",
       "      <td>0</td>\n",
       "      <td>i just feel really helpless and heavy hearted</td>\n",
       "      <td>4</td>\n",
       "    </tr>\n",
       "    <tr>\n",
       "      <th>1</th>\n",
       "      <td>1</td>\n",
       "      <td>ive enjoyed being able to slouch about relax a...</td>\n",
       "      <td>0</td>\n",
       "    </tr>\n",
       "    <tr>\n",
       "      <th>2</th>\n",
       "      <td>2</td>\n",
       "      <td>i gave up my internship with the dmrg and am f...</td>\n",
       "      <td>4</td>\n",
       "    </tr>\n",
       "    <tr>\n",
       "      <th>3</th>\n",
       "      <td>3</td>\n",
       "      <td>i dont know i feel so lost</td>\n",
       "      <td>0</td>\n",
       "    </tr>\n",
       "    <tr>\n",
       "      <th>4</th>\n",
       "      <td>4</td>\n",
       "      <td>i am a kindergarten teacher and i am thoroughl...</td>\n",
       "      <td>4</td>\n",
       "    </tr>\n",
       "  </tbody>\n",
       "</table>\n",
       "</div>"
      ],
      "text/plain": [
       "   Unnamed: 0                                               text  label\n",
       "0           0      i just feel really helpless and heavy hearted      4\n",
       "1           1  ive enjoyed being able to slouch about relax a...      0\n",
       "2           2  i gave up my internship with the dmrg and am f...      4\n",
       "3           3                         i dont know i feel so lost      0\n",
       "4           4  i am a kindergarten teacher and i am thoroughl...      4"
      ]
     },
     "execution_count": 112,
     "metadata": {},
     "output_type": "execute_result"
    }
   ],
   "source": [
    "emotion_df.head()"
   ]
  },
  {
   "cell_type": "code",
   "execution_count": 113,
   "id": "7320e045",
   "metadata": {},
   "outputs": [],
   "source": [
    "violence_df = pd.read_csv(\"violence.csv\")"
   ]
  },
  {
   "cell_type": "code",
   "execution_count": 114,
   "id": "b9673593",
   "metadata": {
    "scrolled": true
   },
   "outputs": [
    {
     "data": {
      "text/html": [
       "<div>\n",
       "<style scoped>\n",
       "    .dataframe tbody tr th:only-of-type {\n",
       "        vertical-align: middle;\n",
       "    }\n",
       "\n",
       "    .dataframe tbody tr th {\n",
       "        vertical-align: top;\n",
       "    }\n",
       "\n",
       "    .dataframe thead th {\n",
       "        text-align: right;\n",
       "    }\n",
       "</style>\n",
       "<table border=\"1\" class=\"dataframe\">\n",
       "  <thead>\n",
       "    <tr style=\"text-align: right;\">\n",
       "      <th></th>\n",
       "      <th>Tweet_ID</th>\n",
       "      <th>tweet</th>\n",
       "      <th>type</th>\n",
       "    </tr>\n",
       "  </thead>\n",
       "  <tbody>\n",
       "    <tr>\n",
       "      <th>0</th>\n",
       "      <td>ID_0022DWKP</td>\n",
       "      <td>Had a dream i got raped last night. By a guy i...</td>\n",
       "      <td>sexual_violence</td>\n",
       "    </tr>\n",
       "    <tr>\n",
       "      <th>1</th>\n",
       "      <td>ID_00395QYM</td>\n",
       "      <td>he thought the word raped means sex and told m...</td>\n",
       "      <td>sexual_violence</td>\n",
       "    </tr>\n",
       "    <tr>\n",
       "      <th>2</th>\n",
       "      <td>ID_003EOSSF</td>\n",
       "      <td>She NOT TALKING TO ME I WAS RAPED BY 2 MEN 1 M...</td>\n",
       "      <td>sexual_violence</td>\n",
       "    </tr>\n",
       "    <tr>\n",
       "      <th>3</th>\n",
       "      <td>ID_004BBHOD</td>\n",
       "      <td>I was sexually abused for 3 years at age 4 to ...</td>\n",
       "      <td>sexual_violence</td>\n",
       "    </tr>\n",
       "    <tr>\n",
       "      <th>4</th>\n",
       "      <td>ID_004F7516</td>\n",
       "      <td>Chessy Prout can do better by telling the trut...</td>\n",
       "      <td>sexual_violence</td>\n",
       "    </tr>\n",
       "  </tbody>\n",
       "</table>\n",
       "</div>"
      ],
      "text/plain": [
       "      Tweet_ID                                              tweet  \\\n",
       "0  ID_0022DWKP  Had a dream i got raped last night. By a guy i...   \n",
       "1  ID_00395QYM  he thought the word raped means sex and told m...   \n",
       "2  ID_003EOSSF  She NOT TALKING TO ME I WAS RAPED BY 2 MEN 1 M...   \n",
       "3  ID_004BBHOD  I was sexually abused for 3 years at age 4 to ...   \n",
       "4  ID_004F7516  Chessy Prout can do better by telling the trut...   \n",
       "\n",
       "              type  \n",
       "0  sexual_violence  \n",
       "1  sexual_violence  \n",
       "2  sexual_violence  \n",
       "3  sexual_violence  \n",
       "4  sexual_violence  "
      ]
     },
     "execution_count": 114,
     "metadata": {},
     "output_type": "execute_result"
    }
   ],
   "source": [
    "violence_df.head()"
   ]
  },
  {
   "cell_type": "code",
   "execution_count": 115,
   "id": "e4e9497b",
   "metadata": {},
   "outputs": [],
   "source": [
    "hateSpeech_df = pd.read_csv(\"hateSpeech.csv\")"
   ]
  },
  {
   "cell_type": "code",
   "execution_count": 116,
   "id": "b4207f3d",
   "metadata": {},
   "outputs": [
    {
     "data": {
      "text/html": [
       "<div>\n",
       "<style scoped>\n",
       "    .dataframe tbody tr th:only-of-type {\n",
       "        vertical-align: middle;\n",
       "    }\n",
       "\n",
       "    .dataframe tbody tr th {\n",
       "        vertical-align: top;\n",
       "    }\n",
       "\n",
       "    .dataframe thead th {\n",
       "        text-align: right;\n",
       "    }\n",
       "</style>\n",
       "<table border=\"1\" class=\"dataframe\">\n",
       "  <thead>\n",
       "    <tr style=\"text-align: right;\">\n",
       "      <th></th>\n",
       "      <th>Unnamed: 0</th>\n",
       "      <th>count</th>\n",
       "      <th>hate_speech</th>\n",
       "      <th>offensive_language</th>\n",
       "      <th>neither</th>\n",
       "      <th>class</th>\n",
       "      <th>tweet</th>\n",
       "    </tr>\n",
       "  </thead>\n",
       "  <tbody>\n",
       "    <tr>\n",
       "      <th>0</th>\n",
       "      <td>0</td>\n",
       "      <td>3</td>\n",
       "      <td>0</td>\n",
       "      <td>0</td>\n",
       "      <td>3</td>\n",
       "      <td>2</td>\n",
       "      <td>!!! RT @mayasolovely: As a woman you shouldn't...</td>\n",
       "    </tr>\n",
       "    <tr>\n",
       "      <th>1</th>\n",
       "      <td>1</td>\n",
       "      <td>3</td>\n",
       "      <td>0</td>\n",
       "      <td>3</td>\n",
       "      <td>0</td>\n",
       "      <td>1</td>\n",
       "      <td>!!!!! RT @mleew17: boy dats cold...tyga dwn ba...</td>\n",
       "    </tr>\n",
       "    <tr>\n",
       "      <th>2</th>\n",
       "      <td>2</td>\n",
       "      <td>3</td>\n",
       "      <td>0</td>\n",
       "      <td>3</td>\n",
       "      <td>0</td>\n",
       "      <td>1</td>\n",
       "      <td>!!!!!!! RT @UrKindOfBrand Dawg!!!! RT @80sbaby...</td>\n",
       "    </tr>\n",
       "    <tr>\n",
       "      <th>3</th>\n",
       "      <td>3</td>\n",
       "      <td>3</td>\n",
       "      <td>0</td>\n",
       "      <td>2</td>\n",
       "      <td>1</td>\n",
       "      <td>1</td>\n",
       "      <td>!!!!!!!!! RT @C_G_Anderson: @viva_based she lo...</td>\n",
       "    </tr>\n",
       "    <tr>\n",
       "      <th>4</th>\n",
       "      <td>4</td>\n",
       "      <td>6</td>\n",
       "      <td>0</td>\n",
       "      <td>6</td>\n",
       "      <td>0</td>\n",
       "      <td>1</td>\n",
       "      <td>!!!!!!!!!!!!! RT @ShenikaRoberts: The shit you...</td>\n",
       "    </tr>\n",
       "  </tbody>\n",
       "</table>\n",
       "</div>"
      ],
      "text/plain": [
       "   Unnamed: 0  count  hate_speech  offensive_language  neither  class  \\\n",
       "0           0      3            0                   0        3      2   \n",
       "1           1      3            0                   3        0      1   \n",
       "2           2      3            0                   3        0      1   \n",
       "3           3      3            0                   2        1      1   \n",
       "4           4      6            0                   6        0      1   \n",
       "\n",
       "                                               tweet  \n",
       "0  !!! RT @mayasolovely: As a woman you shouldn't...  \n",
       "1  !!!!! RT @mleew17: boy dats cold...tyga dwn ba...  \n",
       "2  !!!!!!! RT @UrKindOfBrand Dawg!!!! RT @80sbaby...  \n",
       "3  !!!!!!!!! RT @C_G_Anderson: @viva_based she lo...  \n",
       "4  !!!!!!!!!!!!! RT @ShenikaRoberts: The shit you...  "
      ]
     },
     "execution_count": 116,
     "metadata": {},
     "output_type": "execute_result"
    }
   ],
   "source": [
    "hateSpeech_df.head()"
   ]
  },
  {
   "cell_type": "code",
   "execution_count": null,
   "id": "aae7ea87",
   "metadata": {},
   "outputs": [],
   "source": []
  },
  {
   "cell_type": "code",
   "execution_count": 117,
   "id": "52a31c38",
   "metadata": {},
   "outputs": [
    {
     "data": {
      "text/html": [
       "<div>\n",
       "<style scoped>\n",
       "    .dataframe tbody tr th:only-of-type {\n",
       "        vertical-align: middle;\n",
       "    }\n",
       "\n",
       "    .dataframe tbody tr th {\n",
       "        vertical-align: top;\n",
       "    }\n",
       "\n",
       "    .dataframe thead th {\n",
       "        text-align: right;\n",
       "    }\n",
       "</style>\n",
       "<table border=\"1\" class=\"dataframe\">\n",
       "  <thead>\n",
       "    <tr style=\"text-align: right;\">\n",
       "      <th></th>\n",
       "      <th>Unnamed: 0</th>\n",
       "      <th>count</th>\n",
       "      <th>hate_speech</th>\n",
       "      <th>offensive_language</th>\n",
       "      <th>neither</th>\n",
       "      <th>class</th>\n",
       "      <th>tweet</th>\n",
       "    </tr>\n",
       "  </thead>\n",
       "  <tbody>\n",
       "    <tr>\n",
       "      <th>0</th>\n",
       "      <td>0</td>\n",
       "      <td>3</td>\n",
       "      <td>0</td>\n",
       "      <td>0</td>\n",
       "      <td>3</td>\n",
       "      <td>2</td>\n",
       "      <td>!!! RT @mayasolovely: As a woman you shouldn't...</td>\n",
       "    </tr>\n",
       "    <tr>\n",
       "      <th>1</th>\n",
       "      <td>1</td>\n",
       "      <td>3</td>\n",
       "      <td>0</td>\n",
       "      <td>3</td>\n",
       "      <td>0</td>\n",
       "      <td>1</td>\n",
       "      <td>!!!!! RT @mleew17: boy dats cold...tyga dwn ba...</td>\n",
       "    </tr>\n",
       "    <tr>\n",
       "      <th>2</th>\n",
       "      <td>2</td>\n",
       "      <td>3</td>\n",
       "      <td>0</td>\n",
       "      <td>3</td>\n",
       "      <td>0</td>\n",
       "      <td>1</td>\n",
       "      <td>!!!!!!! RT @UrKindOfBrand Dawg!!!! RT @80sbaby...</td>\n",
       "    </tr>\n",
       "    <tr>\n",
       "      <th>3</th>\n",
       "      <td>3</td>\n",
       "      <td>3</td>\n",
       "      <td>0</td>\n",
       "      <td>2</td>\n",
       "      <td>1</td>\n",
       "      <td>1</td>\n",
       "      <td>!!!!!!!!! RT @C_G_Anderson: @viva_based she lo...</td>\n",
       "    </tr>\n",
       "    <tr>\n",
       "      <th>4</th>\n",
       "      <td>4</td>\n",
       "      <td>6</td>\n",
       "      <td>0</td>\n",
       "      <td>6</td>\n",
       "      <td>0</td>\n",
       "      <td>1</td>\n",
       "      <td>!!!!!!!!!!!!! RT @ShenikaRoberts: The shit you...</td>\n",
       "    </tr>\n",
       "  </tbody>\n",
       "</table>\n",
       "</div>"
      ],
      "text/plain": [
       "   Unnamed: 0  count  hate_speech  offensive_language  neither  class  \\\n",
       "0           0      3            0                   0        3      2   \n",
       "1           1      3            0                   3        0      1   \n",
       "2           2      3            0                   3        0      1   \n",
       "3           3      3            0                   2        1      1   \n",
       "4           4      6            0                   6        0      1   \n",
       "\n",
       "                                               tweet  \n",
       "0  !!! RT @mayasolovely: As a woman you shouldn't...  \n",
       "1  !!!!! RT @mleew17: boy dats cold...tyga dwn ba...  \n",
       "2  !!!!!!! RT @UrKindOfBrand Dawg!!!! RT @80sbaby...  \n",
       "3  !!!!!!!!! RT @C_G_Anderson: @viva_based she lo...  \n",
       "4  !!!!!!!!!!!!! RT @ShenikaRoberts: The shit you...  "
      ]
     },
     "execution_count": 117,
     "metadata": {},
     "output_type": "execute_result"
    }
   ],
   "source": [
    "hateSpeech_df.head()"
   ]
  },
  {
   "cell_type": "code",
   "execution_count": 118,
   "id": "18cd13fe",
   "metadata": {},
   "outputs": [],
   "source": [
    "sentiment_df = pd.read_csv(\"sentiment.csv\",encoding='ISO-8859-1')"
   ]
  },
  {
   "cell_type": "code",
   "execution_count": 119,
   "id": "62dc608a",
   "metadata": {},
   "outputs": [
    {
     "data": {
      "text/html": [
       "<div>\n",
       "<style scoped>\n",
       "    .dataframe tbody tr th:only-of-type {\n",
       "        vertical-align: middle;\n",
       "    }\n",
       "\n",
       "    .dataframe tbody tr th {\n",
       "        vertical-align: top;\n",
       "    }\n",
       "\n",
       "    .dataframe thead th {\n",
       "        text-align: right;\n",
       "    }\n",
       "</style>\n",
       "<table border=\"1\" class=\"dataframe\">\n",
       "  <thead>\n",
       "    <tr style=\"text-align: right;\">\n",
       "      <th></th>\n",
       "      <th>textID</th>\n",
       "      <th>text</th>\n",
       "      <th>selected_text</th>\n",
       "      <th>sentiment</th>\n",
       "      <th>Time of Tweet</th>\n",
       "      <th>Age of User</th>\n",
       "      <th>Country</th>\n",
       "      <th>Population -2020</th>\n",
       "      <th>Land Area (Km²)</th>\n",
       "      <th>Density (P/Km²)</th>\n",
       "    </tr>\n",
       "  </thead>\n",
       "  <tbody>\n",
       "    <tr>\n",
       "      <th>0</th>\n",
       "      <td>cb774db0d1</td>\n",
       "      <td>I`d have responded, if I were going</td>\n",
       "      <td>I`d have responded, if I were going</td>\n",
       "      <td>neutral</td>\n",
       "      <td>morning</td>\n",
       "      <td>0-20</td>\n",
       "      <td>Afghanistan</td>\n",
       "      <td>38928346</td>\n",
       "      <td>652860.0</td>\n",
       "      <td>60</td>\n",
       "    </tr>\n",
       "    <tr>\n",
       "      <th>1</th>\n",
       "      <td>549e992a42</td>\n",
       "      <td>Sooo SAD I will miss you here in San Diego!!!</td>\n",
       "      <td>Sooo SAD</td>\n",
       "      <td>negative</td>\n",
       "      <td>noon</td>\n",
       "      <td>21-30</td>\n",
       "      <td>Albania</td>\n",
       "      <td>2877797</td>\n",
       "      <td>27400.0</td>\n",
       "      <td>105</td>\n",
       "    </tr>\n",
       "    <tr>\n",
       "      <th>2</th>\n",
       "      <td>088c60f138</td>\n",
       "      <td>my boss is bullying me...</td>\n",
       "      <td>bullying me</td>\n",
       "      <td>negative</td>\n",
       "      <td>night</td>\n",
       "      <td>31-45</td>\n",
       "      <td>Algeria</td>\n",
       "      <td>43851044</td>\n",
       "      <td>2381740.0</td>\n",
       "      <td>18</td>\n",
       "    </tr>\n",
       "    <tr>\n",
       "      <th>3</th>\n",
       "      <td>9642c003ef</td>\n",
       "      <td>what interview! leave me alone</td>\n",
       "      <td>leave me alone</td>\n",
       "      <td>negative</td>\n",
       "      <td>morning</td>\n",
       "      <td>46-60</td>\n",
       "      <td>Andorra</td>\n",
       "      <td>77265</td>\n",
       "      <td>470.0</td>\n",
       "      <td>164</td>\n",
       "    </tr>\n",
       "    <tr>\n",
       "      <th>4</th>\n",
       "      <td>358bd9e861</td>\n",
       "      <td>Sons of ****, why couldn`t they put them on t...</td>\n",
       "      <td>Sons of ****,</td>\n",
       "      <td>negative</td>\n",
       "      <td>noon</td>\n",
       "      <td>60-70</td>\n",
       "      <td>Angola</td>\n",
       "      <td>32866272</td>\n",
       "      <td>1246700.0</td>\n",
       "      <td>26</td>\n",
       "    </tr>\n",
       "  </tbody>\n",
       "</table>\n",
       "</div>"
      ],
      "text/plain": [
       "       textID                                               text  \\\n",
       "0  cb774db0d1                I`d have responded, if I were going   \n",
       "1  549e992a42      Sooo SAD I will miss you here in San Diego!!!   \n",
       "2  088c60f138                          my boss is bullying me...   \n",
       "3  9642c003ef                     what interview! leave me alone   \n",
       "4  358bd9e861   Sons of ****, why couldn`t they put them on t...   \n",
       "\n",
       "                         selected_text sentiment Time of Tweet Age of User  \\\n",
       "0  I`d have responded, if I were going   neutral       morning        0-20   \n",
       "1                             Sooo SAD  negative          noon       21-30   \n",
       "2                          bullying me  negative         night       31-45   \n",
       "3                       leave me alone  negative       morning       46-60   \n",
       "4                        Sons of ****,  negative          noon       60-70   \n",
       "\n",
       "       Country  Population -2020  Land Area (Km²)  Density (P/Km²)  \n",
       "0  Afghanistan          38928346         652860.0               60  \n",
       "1      Albania           2877797          27400.0              105  \n",
       "2      Algeria          43851044        2381740.0               18  \n",
       "3      Andorra             77265            470.0              164  \n",
       "4       Angola          32866272        1246700.0               26  "
      ]
     },
     "execution_count": 119,
     "metadata": {},
     "output_type": "execute_result"
    }
   ],
   "source": [
    "sentiment_df.head()"
   ]
  },
  {
   "cell_type": "code",
   "execution_count": 120,
   "id": "f2d584d3",
   "metadata": {},
   "outputs": [],
   "source": [
    "sentiment_df = sentiment_df[['text','sentiment']]"
   ]
  },
  {
   "cell_type": "code",
   "execution_count": 121,
   "id": "9157f2f1",
   "metadata": {},
   "outputs": [
    {
     "data": {
      "text/html": [
       "<div>\n",
       "<style scoped>\n",
       "    .dataframe tbody tr th:only-of-type {\n",
       "        vertical-align: middle;\n",
       "    }\n",
       "\n",
       "    .dataframe tbody tr th {\n",
       "        vertical-align: top;\n",
       "    }\n",
       "\n",
       "    .dataframe thead th {\n",
       "        text-align: right;\n",
       "    }\n",
       "</style>\n",
       "<table border=\"1\" class=\"dataframe\">\n",
       "  <thead>\n",
       "    <tr style=\"text-align: right;\">\n",
       "      <th></th>\n",
       "      <th>text</th>\n",
       "      <th>sentiment</th>\n",
       "    </tr>\n",
       "  </thead>\n",
       "  <tbody>\n",
       "    <tr>\n",
       "      <th>0</th>\n",
       "      <td>I`d have responded, if I were going</td>\n",
       "      <td>neutral</td>\n",
       "    </tr>\n",
       "    <tr>\n",
       "      <th>1</th>\n",
       "      <td>Sooo SAD I will miss you here in San Diego!!!</td>\n",
       "      <td>negative</td>\n",
       "    </tr>\n",
       "    <tr>\n",
       "      <th>2</th>\n",
       "      <td>my boss is bullying me...</td>\n",
       "      <td>negative</td>\n",
       "    </tr>\n",
       "    <tr>\n",
       "      <th>3</th>\n",
       "      <td>what interview! leave me alone</td>\n",
       "      <td>negative</td>\n",
       "    </tr>\n",
       "    <tr>\n",
       "      <th>4</th>\n",
       "      <td>Sons of ****, why couldn`t they put them on t...</td>\n",
       "      <td>negative</td>\n",
       "    </tr>\n",
       "  </tbody>\n",
       "</table>\n",
       "</div>"
      ],
      "text/plain": [
       "                                                text sentiment\n",
       "0                I`d have responded, if I were going   neutral\n",
       "1      Sooo SAD I will miss you here in San Diego!!!  negative\n",
       "2                          my boss is bullying me...  negative\n",
       "3                     what interview! leave me alone  negative\n",
       "4   Sons of ****, why couldn`t they put them on t...  negative"
      ]
     },
     "execution_count": 121,
     "metadata": {},
     "output_type": "execute_result"
    }
   ],
   "source": [
    "sentiment_df.head()"
   ]
  },
  {
   "cell_type": "markdown",
   "id": "1e58c6ef",
   "metadata": {},
   "source": [
    "Preprocessing The Data"
   ]
  },
  {
   "cell_type": "code",
   "execution_count": 122,
   "id": "01147089",
   "metadata": {},
   "outputs": [],
   "source": [
    "#Dropping unwanted columns\n",
    "emotion_df.drop(columns = ['Unnamed: 0'],inplace = True)"
   ]
  },
  {
   "cell_type": "code",
   "execution_count": 123,
   "id": "675b71df",
   "metadata": {},
   "outputs": [],
   "source": [
    "violence_df.drop(columns = ['Tweet_ID'], inplace = True)"
   ]
  },
  {
   "cell_type": "code",
   "execution_count": 124,
   "id": "3da49aea",
   "metadata": {},
   "outputs": [],
   "source": [
    "hateSpeech_df = hateSpeech_df[['tweet','class']]"
   ]
  },
  {
   "cell_type": "code",
   "execution_count": 125,
   "id": "46338aa6",
   "metadata": {},
   "outputs": [
    {
     "data": {
      "text/html": [
       "<div>\n",
       "<style scoped>\n",
       "    .dataframe tbody tr th:only-of-type {\n",
       "        vertical-align: middle;\n",
       "    }\n",
       "\n",
       "    .dataframe tbody tr th {\n",
       "        vertical-align: top;\n",
       "    }\n",
       "\n",
       "    .dataframe thead th {\n",
       "        text-align: right;\n",
       "    }\n",
       "</style>\n",
       "<table border=\"1\" class=\"dataframe\">\n",
       "  <thead>\n",
       "    <tr style=\"text-align: right;\">\n",
       "      <th></th>\n",
       "      <th>text</th>\n",
       "      <th>label</th>\n",
       "    </tr>\n",
       "  </thead>\n",
       "  <tbody>\n",
       "    <tr>\n",
       "      <th>0</th>\n",
       "      <td>i just feel really helpless and heavy hearted</td>\n",
       "      <td>4</td>\n",
       "    </tr>\n",
       "    <tr>\n",
       "      <th>1</th>\n",
       "      <td>ive enjoyed being able to slouch about relax a...</td>\n",
       "      <td>0</td>\n",
       "    </tr>\n",
       "    <tr>\n",
       "      <th>2</th>\n",
       "      <td>i gave up my internship with the dmrg and am f...</td>\n",
       "      <td>4</td>\n",
       "    </tr>\n",
       "    <tr>\n",
       "      <th>3</th>\n",
       "      <td>i dont know i feel so lost</td>\n",
       "      <td>0</td>\n",
       "    </tr>\n",
       "    <tr>\n",
       "      <th>4</th>\n",
       "      <td>i am a kindergarten teacher and i am thoroughl...</td>\n",
       "      <td>4</td>\n",
       "    </tr>\n",
       "  </tbody>\n",
       "</table>\n",
       "</div>"
      ],
      "text/plain": [
       "                                                text  label\n",
       "0      i just feel really helpless and heavy hearted      4\n",
       "1  ive enjoyed being able to slouch about relax a...      0\n",
       "2  i gave up my internship with the dmrg and am f...      4\n",
       "3                         i dont know i feel so lost      0\n",
       "4  i am a kindergarten teacher and i am thoroughl...      4"
      ]
     },
     "execution_count": 125,
     "metadata": {},
     "output_type": "execute_result"
    }
   ],
   "source": [
    "emotion_df.head()\n"
   ]
  },
  {
   "cell_type": "code",
   "execution_count": 126,
   "id": "0e8cfa83",
   "metadata": {},
   "outputs": [
    {
     "data": {
      "text/html": [
       "<div>\n",
       "<style scoped>\n",
       "    .dataframe tbody tr th:only-of-type {\n",
       "        vertical-align: middle;\n",
       "    }\n",
       "\n",
       "    .dataframe tbody tr th {\n",
       "        vertical-align: top;\n",
       "    }\n",
       "\n",
       "    .dataframe thead th {\n",
       "        text-align: right;\n",
       "    }\n",
       "</style>\n",
       "<table border=\"1\" class=\"dataframe\">\n",
       "  <thead>\n",
       "    <tr style=\"text-align: right;\">\n",
       "      <th></th>\n",
       "      <th>tweet</th>\n",
       "      <th>type</th>\n",
       "    </tr>\n",
       "  </thead>\n",
       "  <tbody>\n",
       "    <tr>\n",
       "      <th>0</th>\n",
       "      <td>Had a dream i got raped last night. By a guy i...</td>\n",
       "      <td>sexual_violence</td>\n",
       "    </tr>\n",
       "    <tr>\n",
       "      <th>1</th>\n",
       "      <td>he thought the word raped means sex and told m...</td>\n",
       "      <td>sexual_violence</td>\n",
       "    </tr>\n",
       "    <tr>\n",
       "      <th>2</th>\n",
       "      <td>She NOT TALKING TO ME I WAS RAPED BY 2 MEN 1 M...</td>\n",
       "      <td>sexual_violence</td>\n",
       "    </tr>\n",
       "    <tr>\n",
       "      <th>3</th>\n",
       "      <td>I was sexually abused for 3 years at age 4 to ...</td>\n",
       "      <td>sexual_violence</td>\n",
       "    </tr>\n",
       "    <tr>\n",
       "      <th>4</th>\n",
       "      <td>Chessy Prout can do better by telling the trut...</td>\n",
       "      <td>sexual_violence</td>\n",
       "    </tr>\n",
       "  </tbody>\n",
       "</table>\n",
       "</div>"
      ],
      "text/plain": [
       "                                               tweet             type\n",
       "0  Had a dream i got raped last night. By a guy i...  sexual_violence\n",
       "1  he thought the word raped means sex and told m...  sexual_violence\n",
       "2  She NOT TALKING TO ME I WAS RAPED BY 2 MEN 1 M...  sexual_violence\n",
       "3  I was sexually abused for 3 years at age 4 to ...  sexual_violence\n",
       "4  Chessy Prout can do better by telling the trut...  sexual_violence"
      ]
     },
     "execution_count": 126,
     "metadata": {},
     "output_type": "execute_result"
    }
   ],
   "source": [
    "violence_df.head()"
   ]
  },
  {
   "cell_type": "code",
   "execution_count": 127,
   "id": "e898e2ef",
   "metadata": {},
   "outputs": [
    {
     "data": {
      "text/html": [
       "<div>\n",
       "<style scoped>\n",
       "    .dataframe tbody tr th:only-of-type {\n",
       "        vertical-align: middle;\n",
       "    }\n",
       "\n",
       "    .dataframe tbody tr th {\n",
       "        vertical-align: top;\n",
       "    }\n",
       "\n",
       "    .dataframe thead th {\n",
       "        text-align: right;\n",
       "    }\n",
       "</style>\n",
       "<table border=\"1\" class=\"dataframe\">\n",
       "  <thead>\n",
       "    <tr style=\"text-align: right;\">\n",
       "      <th></th>\n",
       "      <th>tweet</th>\n",
       "      <th>class</th>\n",
       "    </tr>\n",
       "  </thead>\n",
       "  <tbody>\n",
       "    <tr>\n",
       "      <th>0</th>\n",
       "      <td>!!! RT @mayasolovely: As a woman you shouldn't...</td>\n",
       "      <td>2</td>\n",
       "    </tr>\n",
       "    <tr>\n",
       "      <th>1</th>\n",
       "      <td>!!!!! RT @mleew17: boy dats cold...tyga dwn ba...</td>\n",
       "      <td>1</td>\n",
       "    </tr>\n",
       "    <tr>\n",
       "      <th>2</th>\n",
       "      <td>!!!!!!! RT @UrKindOfBrand Dawg!!!! RT @80sbaby...</td>\n",
       "      <td>1</td>\n",
       "    </tr>\n",
       "    <tr>\n",
       "      <th>3</th>\n",
       "      <td>!!!!!!!!! RT @C_G_Anderson: @viva_based she lo...</td>\n",
       "      <td>1</td>\n",
       "    </tr>\n",
       "    <tr>\n",
       "      <th>4</th>\n",
       "      <td>!!!!!!!!!!!!! RT @ShenikaRoberts: The shit you...</td>\n",
       "      <td>1</td>\n",
       "    </tr>\n",
       "  </tbody>\n",
       "</table>\n",
       "</div>"
      ],
      "text/plain": [
       "                                               tweet  class\n",
       "0  !!! RT @mayasolovely: As a woman you shouldn't...      2\n",
       "1  !!!!! RT @mleew17: boy dats cold...tyga dwn ba...      1\n",
       "2  !!!!!!! RT @UrKindOfBrand Dawg!!!! RT @80sbaby...      1\n",
       "3  !!!!!!!!! RT @C_G_Anderson: @viva_based she lo...      1\n",
       "4  !!!!!!!!!!!!! RT @ShenikaRoberts: The shit you...      1"
      ]
     },
     "execution_count": 127,
     "metadata": {},
     "output_type": "execute_result"
    }
   ],
   "source": [
    "hateSpeech_df.head()"
   ]
  },
  {
   "cell_type": "code",
   "execution_count": 128,
   "id": "fe7aa90d",
   "metadata": {},
   "outputs": [],
   "source": [
    "#Renaming the columns \n",
    "violence_df.rename(columns={'tweet' : 'text', 'type' : 'label'},inplace=True)"
   ]
  },
  {
   "cell_type": "code",
   "execution_count": 129,
   "id": "21df9ecf",
   "metadata": {},
   "outputs": [],
   "source": [
    "sentiment_df.rename(columns={'sentiment' : 'label'},inplace = True)"
   ]
  },
  {
   "cell_type": "code",
   "execution_count": 130,
   "id": "03e3855c",
   "metadata": {},
   "outputs": [
    {
     "data": {
      "text/html": [
       "<div>\n",
       "<style scoped>\n",
       "    .dataframe tbody tr th:only-of-type {\n",
       "        vertical-align: middle;\n",
       "    }\n",
       "\n",
       "    .dataframe tbody tr th {\n",
       "        vertical-align: top;\n",
       "    }\n",
       "\n",
       "    .dataframe thead th {\n",
       "        text-align: right;\n",
       "    }\n",
       "</style>\n",
       "<table border=\"1\" class=\"dataframe\">\n",
       "  <thead>\n",
       "    <tr style=\"text-align: right;\">\n",
       "      <th></th>\n",
       "      <th>text</th>\n",
       "      <th>label</th>\n",
       "    </tr>\n",
       "  </thead>\n",
       "  <tbody>\n",
       "    <tr>\n",
       "      <th>0</th>\n",
       "      <td>I`d have responded, if I were going</td>\n",
       "      <td>neutral</td>\n",
       "    </tr>\n",
       "    <tr>\n",
       "      <th>1</th>\n",
       "      <td>Sooo SAD I will miss you here in San Diego!!!</td>\n",
       "      <td>negative</td>\n",
       "    </tr>\n",
       "    <tr>\n",
       "      <th>2</th>\n",
       "      <td>my boss is bullying me...</td>\n",
       "      <td>negative</td>\n",
       "    </tr>\n",
       "    <tr>\n",
       "      <th>3</th>\n",
       "      <td>what interview! leave me alone</td>\n",
       "      <td>negative</td>\n",
       "    </tr>\n",
       "    <tr>\n",
       "      <th>4</th>\n",
       "      <td>Sons of ****, why couldn`t they put them on t...</td>\n",
       "      <td>negative</td>\n",
       "    </tr>\n",
       "  </tbody>\n",
       "</table>\n",
       "</div>"
      ],
      "text/plain": [
       "                                                text     label\n",
       "0                I`d have responded, if I were going   neutral\n",
       "1      Sooo SAD I will miss you here in San Diego!!!  negative\n",
       "2                          my boss is bullying me...  negative\n",
       "3                     what interview! leave me alone  negative\n",
       "4   Sons of ****, why couldn`t they put them on t...  negative"
      ]
     },
     "execution_count": 130,
     "metadata": {},
     "output_type": "execute_result"
    }
   ],
   "source": [
    "sentiment_df.head()"
   ]
  },
  {
   "cell_type": "code",
   "execution_count": 131,
   "id": "8f24b66e",
   "metadata": {},
   "outputs": [],
   "source": [
    "hateSpeech_df.rename(columns = {'tweet' : 'text', 'class' : 'label'}, inplace = True)"
   ]
  },
  {
   "cell_type": "code",
   "execution_count": 132,
   "id": "f27eac83",
   "metadata": {},
   "outputs": [
    {
     "data": {
      "text/plain": [
       "(Index(['text', 'label'], dtype='object'),\n",
       " Index(['text', 'label'], dtype='object'),\n",
       " Index(['text', 'label'], dtype='object'),\n",
       " Index(['text', 'label'], dtype='object'))"
      ]
     },
     "execution_count": 132,
     "metadata": {},
     "output_type": "execute_result"
    }
   ],
   "source": [
    "emotion_df.columns , violence_df.columns, hateSpeech_df.columns,sentiment_df.columns"
   ]
  },
  {
   "cell_type": "code",
   "execution_count": 133,
   "id": "c123c15a",
   "metadata": {},
   "outputs": [
    {
     "data": {
      "text/plain": [
       "(text     0\n",
       " label    0\n",
       " dtype: int64,\n",
       " text     0\n",
       " label    0\n",
       " dtype: int64,\n",
       " text     0\n",
       " label    0\n",
       " dtype: int64,\n",
       " text     1\n",
       " label    0\n",
       " dtype: int64)"
      ]
     },
     "execution_count": 133,
     "metadata": {},
     "output_type": "execute_result"
    }
   ],
   "source": [
    "#Checking for null values \n",
    "emotion_df.isna().sum(), violence_df.isna().sum(), hateSpeech_df.isna().sum(),sentiment_df.isna().sum()"
   ]
  },
  {
   "cell_type": "code",
   "execution_count": 134,
   "id": "d2ea2087",
   "metadata": {},
   "outputs": [],
   "source": [
    "sentiment_df.dropna(inplace=True)"
   ]
  },
  {
   "cell_type": "code",
   "execution_count": 135,
   "id": "b6850b64",
   "metadata": {},
   "outputs": [
    {
     "data": {
      "text/plain": [
       "(text     0\n",
       " label    0\n",
       " dtype: int64,\n",
       " text     0\n",
       " label    0\n",
       " dtype: int64,\n",
       " text     0\n",
       " label    0\n",
       " dtype: int64,\n",
       " text     0\n",
       " label    0\n",
       " dtype: int64)"
      ]
     },
     "execution_count": 135,
     "metadata": {},
     "output_type": "execute_result"
    }
   ],
   "source": [
    "#Checking for null values \n",
    "emotion_df.isna().sum(), violence_df.isna().sum(), hateSpeech_df.isna().sum(),sentiment_df.isna().sum()"
   ]
  },
  {
   "cell_type": "code",
   "execution_count": 136,
   "id": "e887be62",
   "metadata": {},
   "outputs": [
    {
     "data": {
      "text/plain": [
       "((416809, 2), (39650, 2), (24783, 2), (27480, 2))"
      ]
     },
     "execution_count": 136,
     "metadata": {},
     "output_type": "execute_result"
    }
   ],
   "source": [
    "emotion_df.shape, violence_df.shape, hateSpeech_df.shape,sentiment_df.shape"
   ]
  },
  {
   "cell_type": "code",
   "execution_count": 137,
   "id": "6b8ba632",
   "metadata": {},
   "outputs": [
    {
     "data": {
      "text/plain": [
       "(1    141067\n",
       " 0    121187\n",
       " 3     57317\n",
       " 4     47712\n",
       " 2     34554\n",
       " 5     14972\n",
       " Name: label, dtype: int64,\n",
       " sexual_violence                 32648\n",
       " Physical_violence                5946\n",
       " emotional_violence                651\n",
       " economic_violence                 217\n",
       " Harmful_Traditional_practice      188\n",
       " Name: label, dtype: int64,\n",
       " 1    19190\n",
       " 2     4163\n",
       " 0     1430\n",
       " Name: label, dtype: int64,\n",
       " neutral     11117\n",
       " positive     8582\n",
       " negative     7781\n",
       " Name: label, dtype: int64)"
      ]
     },
     "execution_count": 137,
     "metadata": {},
     "output_type": "execute_result"
    }
   ],
   "source": [
    "#Extracting 12 thousand rows from each dataset \n",
    "emotion_df['label'].value_counts(), violence_df['label'].value_counts(), hateSpeech_df['label'].value_counts(),sentiment_df['label'].value_counts()"
   ]
  },
  {
   "cell_type": "code",
   "execution_count": 138,
   "id": "2d9f8ac8",
   "metadata": {},
   "outputs": [],
   "source": [
    "emotion = pd.DataFrame()\n",
    "for i in range(6):\n",
    "    subset = emotion_df[emotion_df['label'] == i].sample( n = 2000 , random_state = 42)\n",
    "    emotion = pd.concat([emotion,subset])"
   ]
  },
  {
   "cell_type": "code",
   "execution_count": 139,
   "id": "864e36f6",
   "metadata": {},
   "outputs": [
    {
     "data": {
      "text/plain": [
       "array(['neutral', 'negative', 'positive'], dtype=object)"
      ]
     },
     "execution_count": 139,
     "metadata": {},
     "output_type": "execute_result"
    }
   ],
   "source": [
    "sentiment_df['label'].unique()"
   ]
  },
  {
   "cell_type": "code",
   "execution_count": 140,
   "id": "fd3cf7c1",
   "metadata": {},
   "outputs": [],
   "source": [
    "label_encoder = LabelEncoder()\n",
    "sentiment_df['label'] = label_encoder.fit_transform(sentiment_df['label'])"
   ]
  },
  {
   "cell_type": "code",
   "execution_count": 141,
   "id": "1103cf86",
   "metadata": {},
   "outputs": [
    {
     "data": {
      "text/plain": [
       "array([1, 0, 2])"
      ]
     },
     "execution_count": 141,
     "metadata": {},
     "output_type": "execute_result"
    }
   ],
   "source": [
    "sentiment_df['label'].unique()"
   ]
  },
  {
   "cell_type": "code",
   "execution_count": 142,
   "id": "410d5f2e",
   "metadata": {},
   "outputs": [],
   "source": [
    "sentiment = pd.DataFrame()\n",
    "for i in range(3):\n",
    "    subset = sentiment_df[sentiment_df['label'] == i].sample( n = 4000 , random_state = 42)\n",
    "    sentiment = pd.concat([sentiment,subset])"
   ]
  },
  {
   "cell_type": "code",
   "execution_count": 143,
   "id": "ea115df1",
   "metadata": {},
   "outputs": [
    {
     "data": {
      "text/plain": [
       "(12000, 2)"
      ]
     },
     "execution_count": 143,
     "metadata": {},
     "output_type": "execute_result"
    }
   ],
   "source": [
    "sentiment['label'].value_counts()\n",
    "sentiment_df = sentiment.copy()\n",
    "sentiment_df.shape"
   ]
  },
  {
   "cell_type": "code",
   "execution_count": 144,
   "id": "4a82bc47",
   "metadata": {},
   "outputs": [
    {
     "data": {
      "text/plain": [
       "(12000, 2)"
      ]
     },
     "execution_count": 144,
     "metadata": {},
     "output_type": "execute_result"
    }
   ],
   "source": [
    "emotion.shape"
   ]
  },
  {
   "cell_type": "code",
   "execution_count": 145,
   "id": "3a283343",
   "metadata": {},
   "outputs": [],
   "source": [
    "emotion_df = emotion.copy()"
   ]
  },
  {
   "cell_type": "code",
   "execution_count": 146,
   "id": "8151374e",
   "metadata": {},
   "outputs": [
    {
     "data": {
      "text/plain": [
       "0    2000\n",
       "1    2000\n",
       "2    2000\n",
       "3    2000\n",
       "4    2000\n",
       "5    2000\n",
       "Name: label, dtype: int64"
      ]
     },
     "execution_count": 146,
     "metadata": {},
     "output_type": "execute_result"
    }
   ],
   "source": [
    "emotion_df['label'].value_counts()"
   ]
  },
  {
   "cell_type": "code",
   "execution_count": 147,
   "id": "0311e45a",
   "metadata": {},
   "outputs": [
    {
     "data": {
      "text/plain": [
       "sexual_violence                 32648\n",
       "Physical_violence                5946\n",
       "emotional_violence                651\n",
       "economic_violence                 217\n",
       "Harmful_Traditional_practice      188\n",
       "Name: label, dtype: int64"
      ]
     },
     "execution_count": 147,
     "metadata": {},
     "output_type": "execute_result"
    }
   ],
   "source": [
    "violence_df['label'].value_counts()"
   ]
  },
  {
   "cell_type": "code",
   "execution_count": 148,
   "id": "5c49cc83",
   "metadata": {},
   "outputs": [],
   "source": [
    "sexual_violence = violence_df[violence_df['label'] == 'sexual_violence'].sample(n = 4998,random_state = 42)"
   ]
  },
  {
   "cell_type": "code",
   "execution_count": 149,
   "id": "50794e8a",
   "metadata": {},
   "outputs": [],
   "source": [
    "violence_df = violence_df[violence_df['label'] != 'sexual_violence']"
   ]
  },
  {
   "cell_type": "code",
   "execution_count": 150,
   "id": "0e0414e4",
   "metadata": {},
   "outputs": [
    {
     "data": {
      "text/plain": [
       "(7002, 2)"
      ]
     },
     "execution_count": 150,
     "metadata": {},
     "output_type": "execute_result"
    }
   ],
   "source": [
    "violence_df.shape"
   ]
  },
  {
   "cell_type": "code",
   "execution_count": 151,
   "id": "1de37213",
   "metadata": {},
   "outputs": [],
   "source": [
    "violence_df = pd.concat([violence_df,sexual_violence],axis = 0)"
   ]
  },
  {
   "cell_type": "code",
   "execution_count": 152,
   "id": "904a53af",
   "metadata": {},
   "outputs": [
    {
     "data": {
      "text/plain": [
       "(12000, 2)"
      ]
     },
     "execution_count": 152,
     "metadata": {},
     "output_type": "execute_result"
    }
   ],
   "source": [
    "violence_df.shape"
   ]
  },
  {
   "cell_type": "code",
   "execution_count": 153,
   "id": "aab566bb",
   "metadata": {},
   "outputs": [
    {
     "data": {
      "text/plain": [
       "Physical_violence               5946\n",
       "sexual_violence                 4998\n",
       "emotional_violence               651\n",
       "economic_violence                217\n",
       "Harmful_Traditional_practice     188\n",
       "Name: label, dtype: int64"
      ]
     },
     "execution_count": 153,
     "metadata": {},
     "output_type": "execute_result"
    }
   ],
   "source": [
    "violence_df['label'].value_counts()"
   ]
  },
  {
   "cell_type": "code",
   "execution_count": 154,
   "id": "3d4cd542",
   "metadata": {},
   "outputs": [
    {
     "data": {
      "text/plain": [
       "1    19190\n",
       "2     4163\n",
       "0     1430\n",
       "Name: label, dtype: int64"
      ]
     },
     "execution_count": 154,
     "metadata": {},
     "output_type": "execute_result"
    }
   ],
   "source": [
    "hateSpeech_df['label'].value_counts()"
   ]
  },
  {
   "cell_type": "code",
   "execution_count": 155,
   "id": "119ae4c2",
   "metadata": {},
   "outputs": [],
   "source": [
    "hateSpeech_df = pd.concat([hateSpeech_df[hateSpeech_df['label'] != 1],hateSpeech_df[hateSpeech_df['label'] == 1].sample(n = 6407, random_state = 42)],axis = 0)"
   ]
  },
  {
   "cell_type": "code",
   "execution_count": 156,
   "id": "05cc966d",
   "metadata": {},
   "outputs": [
    {
     "data": {
      "text/plain": [
       "1    6407\n",
       "2    4163\n",
       "0    1430\n",
       "Name: label, dtype: int64"
      ]
     },
     "execution_count": 156,
     "metadata": {},
     "output_type": "execute_result"
    }
   ],
   "source": [
    "hateSpeech_df['label'].value_counts()"
   ]
  },
  {
   "cell_type": "code",
   "execution_count": 157,
   "id": "82bbc5d1",
   "metadata": {},
   "outputs": [
    {
     "data": {
      "text/plain": [
       "(12000, 2)"
      ]
     },
     "execution_count": 157,
     "metadata": {},
     "output_type": "execute_result"
    }
   ],
   "source": [
    "hateSpeech_df.shape"
   ]
  },
  {
   "cell_type": "code",
   "execution_count": 158,
   "id": "f0b199ce",
   "metadata": {},
   "outputs": [
    {
     "data": {
      "text/plain": [
       "((12000, 2), (12000, 2), (12000, 2))"
      ]
     },
     "execution_count": 158,
     "metadata": {},
     "output_type": "execute_result"
    }
   ],
   "source": [
    "emotion_df.shape, violence_df.shape, hateSpeech_df.shape"
   ]
  },
  {
   "cell_type": "code",
   "execution_count": 159,
   "id": "9a3c9fa5",
   "metadata": {},
   "outputs": [
    {
     "data": {
      "text/html": [
       "<div>\n",
       "<style scoped>\n",
       "    .dataframe tbody tr th:only-of-type {\n",
       "        vertical-align: middle;\n",
       "    }\n",
       "\n",
       "    .dataframe tbody tr th {\n",
       "        vertical-align: top;\n",
       "    }\n",
       "\n",
       "    .dataframe thead th {\n",
       "        text-align: right;\n",
       "    }\n",
       "</style>\n",
       "<table border=\"1\" class=\"dataframe\">\n",
       "  <thead>\n",
       "    <tr style=\"text-align: right;\">\n",
       "      <th></th>\n",
       "      <th>text</th>\n",
       "      <th>label</th>\n",
       "    </tr>\n",
       "  </thead>\n",
       "  <tbody>\n",
       "    <tr>\n",
       "      <th>133243</th>\n",
       "      <td>ive learned to surround myself with women who ...</td>\n",
       "      <td>0</td>\n",
       "    </tr>\n",
       "    <tr>\n",
       "      <th>88501</th>\n",
       "      <td>i already feel crappy because of this and you ...</td>\n",
       "      <td>0</td>\n",
       "    </tr>\n",
       "    <tr>\n",
       "      <th>131379</th>\n",
       "      <td>i feel like i have lost mourned and moved past...</td>\n",
       "      <td>0</td>\n",
       "    </tr>\n",
       "    <tr>\n",
       "      <th>148369</th>\n",
       "      <td>i could write a whole lot more about why im fe...</td>\n",
       "      <td>0</td>\n",
       "    </tr>\n",
       "    <tr>\n",
       "      <th>134438</th>\n",
       "      <td>i always seem to feel inadequate</td>\n",
       "      <td>0</td>\n",
       "    </tr>\n",
       "  </tbody>\n",
       "</table>\n",
       "</div>"
      ],
      "text/plain": [
       "                                                     text  label\n",
       "133243  ive learned to surround myself with women who ...      0\n",
       "88501   i already feel crappy because of this and you ...      0\n",
       "131379  i feel like i have lost mourned and moved past...      0\n",
       "148369  i could write a whole lot more about why im fe...      0\n",
       "134438                   i always seem to feel inadequate      0"
      ]
     },
     "execution_count": 159,
     "metadata": {},
     "output_type": "execute_result"
    }
   ],
   "source": [
    "emotion_df.head()"
   ]
  },
  {
   "cell_type": "code",
   "execution_count": 160,
   "id": "e9ecd5d4",
   "metadata": {},
   "outputs": [
    {
     "data": {
      "text/html": [
       "<div>\n",
       "<style scoped>\n",
       "    .dataframe tbody tr th:only-of-type {\n",
       "        vertical-align: middle;\n",
       "    }\n",
       "\n",
       "    .dataframe tbody tr th {\n",
       "        vertical-align: top;\n",
       "    }\n",
       "\n",
       "    .dataframe thead th {\n",
       "        text-align: right;\n",
       "    }\n",
       "</style>\n",
       "<table border=\"1\" class=\"dataframe\">\n",
       "  <thead>\n",
       "    <tr style=\"text-align: right;\">\n",
       "      <th></th>\n",
       "      <th>text</th>\n",
       "      <th>label</th>\n",
       "    </tr>\n",
       "  </thead>\n",
       "  <tbody>\n",
       "    <tr>\n",
       "      <th>6</th>\n",
       "      <td>My Husband Beats Me Frequently, Wife Tells Cou...</td>\n",
       "      <td>Physical_violence</td>\n",
       "    </tr>\n",
       "    <tr>\n",
       "      <th>29</th>\n",
       "      <td>Best thing for me to do, is remain silent when...</td>\n",
       "      <td>Physical_violence</td>\n",
       "    </tr>\n",
       "    <tr>\n",
       "      <th>30</th>\n",
       "      <td>My husband will never beat me, Bambam denies r...</td>\n",
       "      <td>Physical_violence</td>\n",
       "    </tr>\n",
       "    <tr>\n",
       "      <th>33</th>\n",
       "      <td>theyre like, i just wanna be a baby maker with...</td>\n",
       "      <td>Physical_violence</td>\n",
       "    </tr>\n",
       "    <tr>\n",
       "      <th>35</th>\n",
       "      <td>I was in England for a week, the longest I’ve ...</td>\n",
       "      <td>Physical_violence</td>\n",
       "    </tr>\n",
       "  </tbody>\n",
       "</table>\n",
       "</div>"
      ],
      "text/plain": [
       "                                                 text              label\n",
       "6   My Husband Beats Me Frequently, Wife Tells Cou...  Physical_violence\n",
       "29  Best thing for me to do, is remain silent when...  Physical_violence\n",
       "30  My husband will never beat me, Bambam denies r...  Physical_violence\n",
       "33  theyre like, i just wanna be a baby maker with...  Physical_violence\n",
       "35  I was in England for a week, the longest I’ve ...  Physical_violence"
      ]
     },
     "execution_count": 160,
     "metadata": {},
     "output_type": "execute_result"
    }
   ],
   "source": [
    "violence_df.head()"
   ]
  },
  {
   "cell_type": "code",
   "execution_count": 161,
   "id": "dbdf265e",
   "metadata": {},
   "outputs": [
    {
     "data": {
      "text/plain": [
       "(                                                 text  label\n",
       " 0   !!! RT @mayasolovely: As a woman you shouldn't...      2\n",
       " 40    \" momma said no pussy cats inside my doghouse \"      2\n",
       " 63  \"@Addicted2Guys: -SimplyAddictedToGuys http://...      2\n",
       " 66  \"@AllAboutManFeet: http://t.co/3gzUpfuMev\" woo...      2\n",
       " 67  \"@Allyhaaaaa: Lemmie eat a Oreo &amp; do these...      2,\n",
       "                                                     text  label\n",
       " 27050   says BAD TRIP! (angry)  http://plurk.com/p/wxshi      0\n",
       " 7004                           that sounds foreboding...      0\n",
       " 8212    _kat I`ve begged my mum to lt me get them out...      0\n",
       " 8389   is really, really bored... I guess I will go t...      0\n",
       " 353    I just stuck my finger down my throat and ther...      0)"
      ]
     },
     "execution_count": 161,
     "metadata": {},
     "output_type": "execute_result"
    }
   ],
   "source": [
    "hateSpeech_df.head(),sentiment_df.head()"
   ]
  },
  {
   "cell_type": "code",
   "execution_count": 162,
   "id": "319bf593",
   "metadata": {},
   "outputs": [],
   "source": [
    "#RESETTING THE INDEX \n",
    "emotion_df.reset_index(drop = True, inplace = True)\n",
    "violence_df.reset_index(drop = True, inplace = True)\n",
    "hateSpeech_df.reset_index(drop = True, inplace = True)\n",
    "sentiment_df.reset_index(drop=True, inplace = True)"
   ]
  },
  {
   "cell_type": "code",
   "execution_count": 163,
   "id": "65135673",
   "metadata": {},
   "outputs": [
    {
     "data": {
      "text/html": [
       "<div>\n",
       "<style scoped>\n",
       "    .dataframe tbody tr th:only-of-type {\n",
       "        vertical-align: middle;\n",
       "    }\n",
       "\n",
       "    .dataframe tbody tr th {\n",
       "        vertical-align: top;\n",
       "    }\n",
       "\n",
       "    .dataframe thead th {\n",
       "        text-align: right;\n",
       "    }\n",
       "</style>\n",
       "<table border=\"1\" class=\"dataframe\">\n",
       "  <thead>\n",
       "    <tr style=\"text-align: right;\">\n",
       "      <th></th>\n",
       "      <th>text</th>\n",
       "      <th>label</th>\n",
       "    </tr>\n",
       "  </thead>\n",
       "  <tbody>\n",
       "    <tr>\n",
       "      <th>0</th>\n",
       "      <td>ive learned to surround myself with women who ...</td>\n",
       "      <td>0</td>\n",
       "    </tr>\n",
       "    <tr>\n",
       "      <th>1</th>\n",
       "      <td>i already feel crappy because of this and you ...</td>\n",
       "      <td>0</td>\n",
       "    </tr>\n",
       "    <tr>\n",
       "      <th>2</th>\n",
       "      <td>i feel like i have lost mourned and moved past...</td>\n",
       "      <td>0</td>\n",
       "    </tr>\n",
       "    <tr>\n",
       "      <th>3</th>\n",
       "      <td>i could write a whole lot more about why im fe...</td>\n",
       "      <td>0</td>\n",
       "    </tr>\n",
       "    <tr>\n",
       "      <th>4</th>\n",
       "      <td>i always seem to feel inadequate</td>\n",
       "      <td>0</td>\n",
       "    </tr>\n",
       "  </tbody>\n",
       "</table>\n",
       "</div>"
      ],
      "text/plain": [
       "                                                text  label\n",
       "0  ive learned to surround myself with women who ...      0\n",
       "1  i already feel crappy because of this and you ...      0\n",
       "2  i feel like i have lost mourned and moved past...      0\n",
       "3  i could write a whole lot more about why im fe...      0\n",
       "4                   i always seem to feel inadequate      0"
      ]
     },
     "execution_count": 163,
     "metadata": {},
     "output_type": "execute_result"
    }
   ],
   "source": [
    "emotion_df.head()"
   ]
  },
  {
   "cell_type": "code",
   "execution_count": 164,
   "id": "361ff646",
   "metadata": {},
   "outputs": [
    {
     "data": {
      "text/html": [
       "<div>\n",
       "<style scoped>\n",
       "    .dataframe tbody tr th:only-of-type {\n",
       "        vertical-align: middle;\n",
       "    }\n",
       "\n",
       "    .dataframe tbody tr th {\n",
       "        vertical-align: top;\n",
       "    }\n",
       "\n",
       "    .dataframe thead th {\n",
       "        text-align: right;\n",
       "    }\n",
       "</style>\n",
       "<table border=\"1\" class=\"dataframe\">\n",
       "  <thead>\n",
       "    <tr style=\"text-align: right;\">\n",
       "      <th></th>\n",
       "      <th>text</th>\n",
       "      <th>label</th>\n",
       "    </tr>\n",
       "  </thead>\n",
       "  <tbody>\n",
       "    <tr>\n",
       "      <th>0</th>\n",
       "      <td>!!! RT @mayasolovely: As a woman you shouldn't...</td>\n",
       "      <td>2</td>\n",
       "    </tr>\n",
       "    <tr>\n",
       "      <th>1</th>\n",
       "      <td>\" momma said no pussy cats inside my doghouse \"</td>\n",
       "      <td>2</td>\n",
       "    </tr>\n",
       "    <tr>\n",
       "      <th>2</th>\n",
       "      <td>\"@Addicted2Guys: -SimplyAddictedToGuys http://...</td>\n",
       "      <td>2</td>\n",
       "    </tr>\n",
       "    <tr>\n",
       "      <th>3</th>\n",
       "      <td>\"@AllAboutManFeet: http://t.co/3gzUpfuMev\" woo...</td>\n",
       "      <td>2</td>\n",
       "    </tr>\n",
       "    <tr>\n",
       "      <th>4</th>\n",
       "      <td>\"@Allyhaaaaa: Lemmie eat a Oreo &amp;amp; do these...</td>\n",
       "      <td>2</td>\n",
       "    </tr>\n",
       "  </tbody>\n",
       "</table>\n",
       "</div>"
      ],
      "text/plain": [
       "                                                text  label\n",
       "0  !!! RT @mayasolovely: As a woman you shouldn't...      2\n",
       "1    \" momma said no pussy cats inside my doghouse \"      2\n",
       "2  \"@Addicted2Guys: -SimplyAddictedToGuys http://...      2\n",
       "3  \"@AllAboutManFeet: http://t.co/3gzUpfuMev\" woo...      2\n",
       "4  \"@Allyhaaaaa: Lemmie eat a Oreo &amp; do these...      2"
      ]
     },
     "execution_count": 164,
     "metadata": {},
     "output_type": "execute_result"
    }
   ],
   "source": [
    "hateSpeech_df.head()\n"
   ]
  },
  {
   "cell_type": "code",
   "execution_count": 165,
   "id": "9f5f877d",
   "metadata": {},
   "outputs": [
    {
     "data": {
      "text/plain": [
       "(                                                text              label\n",
       " 0  My Husband Beats Me Frequently, Wife Tells Cou...  Physical_violence\n",
       " 1  Best thing for me to do, is remain silent when...  Physical_violence\n",
       " 2  My husband will never beat me, Bambam denies r...  Physical_violence\n",
       " 3  theyre like, i just wanna be a baby maker with...  Physical_violence\n",
       " 4  I was in England for a week, the longest I’ve ...  Physical_violence,\n",
       " array(['Physical_violence', 'emotional_violence',\n",
       "        'Harmful_Traditional_practice', 'economic_violence',\n",
       "        'sexual_violence'], dtype=object))"
      ]
     },
     "execution_count": 165,
     "metadata": {},
     "output_type": "execute_result"
    }
   ],
   "source": [
    "violence_df.head(), violence_df['label'].unique()"
   ]
  },
  {
   "cell_type": "code",
   "execution_count": 166,
   "id": "4fd3cd51",
   "metadata": {},
   "outputs": [
    {
     "data": {
      "text/html": [
       "<div>\n",
       "<style scoped>\n",
       "    .dataframe tbody tr th:only-of-type {\n",
       "        vertical-align: middle;\n",
       "    }\n",
       "\n",
       "    .dataframe tbody tr th {\n",
       "        vertical-align: top;\n",
       "    }\n",
       "\n",
       "    .dataframe thead th {\n",
       "        text-align: right;\n",
       "    }\n",
       "</style>\n",
       "<table border=\"1\" class=\"dataframe\">\n",
       "  <thead>\n",
       "    <tr style=\"text-align: right;\">\n",
       "      <th></th>\n",
       "      <th>text</th>\n",
       "      <th>label</th>\n",
       "    </tr>\n",
       "  </thead>\n",
       "  <tbody>\n",
       "    <tr>\n",
       "      <th>0</th>\n",
       "      <td>says BAD TRIP! (angry)  http://plurk.com/p/wxshi</td>\n",
       "      <td>0</td>\n",
       "    </tr>\n",
       "    <tr>\n",
       "      <th>1</th>\n",
       "      <td>that sounds foreboding...</td>\n",
       "      <td>0</td>\n",
       "    </tr>\n",
       "    <tr>\n",
       "      <th>2</th>\n",
       "      <td>_kat I`ve begged my mum to lt me get them out...</td>\n",
       "      <td>0</td>\n",
       "    </tr>\n",
       "    <tr>\n",
       "      <th>3</th>\n",
       "      <td>is really, really bored... I guess I will go t...</td>\n",
       "      <td>0</td>\n",
       "    </tr>\n",
       "    <tr>\n",
       "      <th>4</th>\n",
       "      <td>I just stuck my finger down my throat and ther...</td>\n",
       "      <td>0</td>\n",
       "    </tr>\n",
       "  </tbody>\n",
       "</table>\n",
       "</div>"
      ],
      "text/plain": [
       "                                                text  label\n",
       "0   says BAD TRIP! (angry)  http://plurk.com/p/wxshi      0\n",
       "1                          that sounds foreboding...      0\n",
       "2   _kat I`ve begged my mum to lt me get them out...      0\n",
       "3  is really, really bored... I guess I will go t...      0\n",
       "4  I just stuck my finger down my throat and ther...      0"
      ]
     },
     "execution_count": 166,
     "metadata": {},
     "output_type": "execute_result"
    }
   ],
   "source": [
    "sentiment_df.head()"
   ]
  },
  {
   "cell_type": "markdown",
   "id": "9390549e",
   "metadata": {},
   "source": [
    "LABEL ENCODING"
   ]
  },
  {
   "cell_type": "code",
   "execution_count": 167,
   "id": "6ff42846",
   "metadata": {},
   "outputs": [],
   "source": [
    "label_encoder = LabelEncoder()\n",
    "violence_df['label'] = label_encoder.fit_transform(violence_df['label'])"
   ]
  },
  {
   "cell_type": "code",
   "execution_count": 168,
   "id": "f7edf70a",
   "metadata": {},
   "outputs": [
    {
     "data": {
      "text/plain": [
       "array([1, 3, 0, 2, 4])"
      ]
     },
     "execution_count": 168,
     "metadata": {},
     "output_type": "execute_result"
    }
   ],
   "source": [
    "violence_df['label'].unique()"
   ]
  },
  {
   "cell_type": "markdown",
   "id": "8c51bb29",
   "metadata": {},
   "source": [
    "Stop Words Removal"
   ]
  },
  {
   "cell_type": "code",
   "execution_count": 169,
   "id": "098eea3f",
   "metadata": {},
   "outputs": [
    {
     "name": "stderr",
     "output_type": "stream",
     "text": [
      "[nltk_data] Downloading package stopwords to\n",
      "[nltk_data]     /Users/prashantuprety/nltk_data...\n",
      "[nltk_data]   Package stopwords is already up-to-date!\n",
      "[nltk_data] Downloading package punkt to\n",
      "[nltk_data]     /Users/prashantuprety/nltk_data...\n",
      "[nltk_data]   Package punkt is already up-to-date!\n",
      "[nltk_data] Downloading package punkt_tab to\n",
      "[nltk_data]     /Users/prashantuprety/nltk_data...\n",
      "[nltk_data]   Package punkt_tab is already up-to-date!\n"
     ]
    },
    {
     "data": {
      "text/plain": [
       "True"
      ]
     },
     "execution_count": 169,
     "metadata": {},
     "output_type": "execute_result"
    }
   ],
   "source": [
    "nltk.download('stopwords')\n",
    "nltk.download('punkt')\n",
    "nltk.download('punkt_tab')"
   ]
  },
  {
   "cell_type": "code",
   "execution_count": 170,
   "id": "975634f9",
   "metadata": {},
   "outputs": [],
   "source": [
    "#LOADING STOPWORDS \n",
    "stop_words = set(stopwords.words('english'))"
   ]
  },
  {
   "cell_type": "code",
   "execution_count": 171,
   "id": "be6e680b",
   "metadata": {},
   "outputs": [
    {
     "data": {
      "text/plain": [
       "179"
      ]
     },
     "execution_count": 171,
     "metadata": {},
     "output_type": "execute_result"
    }
   ],
   "source": [
    "len(stop_words)"
   ]
  },
  {
   "cell_type": "code",
   "execution_count": 172,
   "id": "779866c6",
   "metadata": {},
   "outputs": [],
   "source": [
    "#FUNCTION TO REMOVE STOP WORDS \n",
    "def remove_stopwords(text):\n",
    "    all_words = nltk.word_tokenize(text)\n",
    "    filtered_words = [word for word in all_words if word.lower() not in stop_words]\n",
    "    return ' '.join(filtered_words)"
   ]
  },
  {
   "cell_type": "code",
   "execution_count": 173,
   "id": "91427d89",
   "metadata": {},
   "outputs": [],
   "source": [
    "emotion_df['text'] = emotion_df['text'].apply(remove_stopwords)"
   ]
  },
  {
   "cell_type": "code",
   "execution_count": 174,
   "id": "4067efbb",
   "metadata": {},
   "outputs": [],
   "source": [
    "violence_df['text'] = violence_df['text'].apply(remove_stopwords)\n"
   ]
  },
  {
   "cell_type": "code",
   "execution_count": 175,
   "id": "b2cae31c",
   "metadata": {},
   "outputs": [],
   "source": [
    "hateSpeech_df['text'] = hateSpeech_df['text'].apply(remove_stopwords)"
   ]
  },
  {
   "cell_type": "code",
   "execution_count": 176,
   "id": "688eaa0d",
   "metadata": {},
   "outputs": [],
   "source": [
    "sentiment_df['text'] = sentiment_df['text'].apply(remove_stopwords)"
   ]
  },
  {
   "cell_type": "code",
   "execution_count": 177,
   "id": "0b4bf281",
   "metadata": {},
   "outputs": [
    {
     "data": {
      "text/html": [
       "<div>\n",
       "<style scoped>\n",
       "    .dataframe tbody tr th:only-of-type {\n",
       "        vertical-align: middle;\n",
       "    }\n",
       "\n",
       "    .dataframe tbody tr th {\n",
       "        vertical-align: top;\n",
       "    }\n",
       "\n",
       "    .dataframe thead th {\n",
       "        text-align: right;\n",
       "    }\n",
       "</style>\n",
       "<table border=\"1\" class=\"dataframe\">\n",
       "  <thead>\n",
       "    <tr style=\"text-align: right;\">\n",
       "      <th></th>\n",
       "      <th>text</th>\n",
       "      <th>label</th>\n",
       "    </tr>\n",
       "  </thead>\n",
       "  <tbody>\n",
       "    <tr>\n",
       "      <th>0</th>\n",
       "      <td>ive learned surround women lift leave feeling ...</td>\n",
       "      <td>0</td>\n",
       "    </tr>\n",
       "    <tr>\n",
       "      <th>1</th>\n",
       "      <td>already feel crappy upset situation doesnt help</td>\n",
       "      <td>0</td>\n",
       "    </tr>\n",
       "    <tr>\n",
       "      <th>2</th>\n",
       "      <td>feel like lost mourned moved past tears relati...</td>\n",
       "      <td>0</td>\n",
       "    </tr>\n",
       "    <tr>\n",
       "      <th>3</th>\n",
       "      <td>could write whole lot im feeling crappy dont t...</td>\n",
       "      <td>0</td>\n",
       "    </tr>\n",
       "    <tr>\n",
       "      <th>4</th>\n",
       "      <td>always seem feel inadequate</td>\n",
       "      <td>0</td>\n",
       "    </tr>\n",
       "  </tbody>\n",
       "</table>\n",
       "</div>"
      ],
      "text/plain": [
       "                                                text  label\n",
       "0  ive learned surround women lift leave feeling ...      0\n",
       "1    already feel crappy upset situation doesnt help      0\n",
       "2  feel like lost mourned moved past tears relati...      0\n",
       "3  could write whole lot im feeling crappy dont t...      0\n",
       "4                        always seem feel inadequate      0"
      ]
     },
     "execution_count": 177,
     "metadata": {},
     "output_type": "execute_result"
    }
   ],
   "source": [
    "emotion_df.head()"
   ]
  },
  {
   "cell_type": "code",
   "execution_count": 178,
   "id": "797e1ea0",
   "metadata": {},
   "outputs": [
    {
     "data": {
      "text/html": [
       "<div>\n",
       "<style scoped>\n",
       "    .dataframe tbody tr th:only-of-type {\n",
       "        vertical-align: middle;\n",
       "    }\n",
       "\n",
       "    .dataframe tbody tr th {\n",
       "        vertical-align: top;\n",
       "    }\n",
       "\n",
       "    .dataframe thead th {\n",
       "        text-align: right;\n",
       "    }\n",
       "</style>\n",
       "<table border=\"1\" class=\"dataframe\">\n",
       "  <thead>\n",
       "    <tr style=\"text-align: right;\">\n",
       "      <th></th>\n",
       "      <th>text</th>\n",
       "      <th>label</th>\n",
       "    </tr>\n",
       "  </thead>\n",
       "  <tbody>\n",
       "    <tr>\n",
       "      <th>0</th>\n",
       "      <td>says BAD TRIP ! ( angry ) http : //plurk.com/p...</td>\n",
       "      <td>0</td>\n",
       "    </tr>\n",
       "    <tr>\n",
       "      <th>1</th>\n",
       "      <td>sounds foreboding ...</td>\n",
       "      <td>0</td>\n",
       "    </tr>\n",
       "    <tr>\n",
       "      <th>2</th>\n",
       "      <td>_kat ` begged mum lt get attic .. wont let Waa...</td>\n",
       "      <td>0</td>\n",
       "    </tr>\n",
       "    <tr>\n",
       "      <th>3</th>\n",
       "      <td>really , really bored ... guess go bed</td>\n",
       "      <td>0</td>\n",
       "    </tr>\n",
       "    <tr>\n",
       "      <th>4</th>\n",
       "      <td>stuck finger throat bunch bumps tongue &amp; throat .</td>\n",
       "      <td>0</td>\n",
       "    </tr>\n",
       "  </tbody>\n",
       "</table>\n",
       "</div>"
      ],
      "text/plain": [
       "                                                text  label\n",
       "0  says BAD TRIP ! ( angry ) http : //plurk.com/p...      0\n",
       "1                              sounds foreboding ...      0\n",
       "2  _kat ` begged mum lt get attic .. wont let Waa...      0\n",
       "3             really , really bored ... guess go bed      0\n",
       "4  stuck finger throat bunch bumps tongue & throat .      0"
      ]
     },
     "execution_count": 178,
     "metadata": {},
     "output_type": "execute_result"
    }
   ],
   "source": [
    "sentiment_df.head()"
   ]
  },
  {
   "cell_type": "markdown",
   "id": "afa77d6d",
   "metadata": {},
   "source": [
    "Tokenization And Padding"
   ]
  },
  {
   "cell_type": "code",
   "execution_count": 179,
   "id": "a2d4df20",
   "metadata": {},
   "outputs": [],
   "source": [
    "tokenizer = Tokenizer()\n",
    "tokenizer.fit_on_texts(pd.concat([emotion_df['text'],violence_df['text'],hateSpeech_df['text'],sentiment_df['text']]))"
   ]
  },
  {
   "cell_type": "code",
   "execution_count": 180,
   "id": "3129e6a7",
   "metadata": {},
   "outputs": [],
   "source": [
    "emotion_sequences = tokenizer.texts_to_sequences(emotion_df['text'])"
   ]
  },
  {
   "cell_type": "code",
   "execution_count": 181,
   "id": "f7722344",
   "metadata": {},
   "outputs": [],
   "source": [
    "violence_sequences = tokenizer.texts_to_sequences(violence_df['text'])"
   ]
  },
  {
   "cell_type": "code",
   "execution_count": 182,
   "id": "32c3b565",
   "metadata": {},
   "outputs": [],
   "source": [
    "hateSpeech_sequences = tokenizer.texts_to_sequences(hateSpeech_df['text'])"
   ]
  },
  {
   "cell_type": "code",
   "execution_count": 183,
   "id": "38fa8918",
   "metadata": {},
   "outputs": [],
   "source": [
    "sentiment_sequences = tokenizer.texts_to_sequences(sentiment_df['text'])"
   ]
  },
  {
   "cell_type": "code",
   "execution_count": 184,
   "id": "0c820021",
   "metadata": {},
   "outputs": [
    {
     "data": {
      "text/plain": [
       "'feel like lost mourned moved past tears relationship'"
      ]
     },
     "execution_count": 184,
     "metadata": {},
     "output_type": "execute_result"
    }
   ],
   "source": [
    "emotion_df['text'].iloc[2]"
   ]
  },
  {
   "cell_type": "code",
   "execution_count": 185,
   "id": "1b1a551e",
   "metadata": {},
   "outputs": [
    {
     "data": {
      "text/plain": [
       "[[1, 4, 305, 13596, 1120, 435, 1169, 479]]"
      ]
     },
     "execution_count": 185,
     "metadata": {},
     "output_type": "execute_result"
    }
   ],
   "source": [
    "emotion_sequences[2:3]"
   ]
  },
  {
   "cell_type": "code",
   "execution_count": 186,
   "id": "e0d0226b",
   "metadata": {},
   "outputs": [
    {
     "data": {
      "text/plain": [
       "'-- fair , want sticker moved away London'"
      ]
     },
     "execution_count": 186,
     "metadata": {},
     "output_type": "execute_result"
    }
   ],
   "source": [
    "sentiment_df['text'].iloc[22]"
   ]
  },
  {
   "cell_type": "code",
   "execution_count": 187,
   "id": "b5666c6d",
   "metadata": {},
   "outputs": [
    {
     "data": {
      "text/plain": [
       "[[1113, 31, 10162, 1120, 138, 1587]]"
      ]
     },
     "execution_count": 187,
     "metadata": {},
     "output_type": "execute_result"
    }
   ],
   "source": [
    "sentiment_sequences[22:23]"
   ]
  },
  {
   "cell_type": "code",
   "execution_count": null,
   "id": "395a30d9",
   "metadata": {},
   "outputs": [],
   "source": []
  },
  {
   "cell_type": "code",
   "execution_count": 188,
   "id": "a46f05b4",
   "metadata": {},
   "outputs": [],
   "source": [
    "max_length = 50\n",
    "emotion_pad = pad_sequences(emotion_sequences,maxlen = max_length,padding = 'post')\n",
    "violence_pad = pad_sequences(violence_sequences,maxlen = max_length,padding = 'post')\n",
    "hateSpeech_pad = pad_sequences(hateSpeech_sequences,maxlen = max_length,padding = 'post')\n",
    "sentiment_pad = pad_sequences(sentiment_sequences,maxlen = max_length,padding = 'post')"
   ]
  },
  {
   "cell_type": "code",
   "execution_count": 189,
   "id": "a02c2bab",
   "metadata": {},
   "outputs": [],
   "source": [
    "#GENERATING LABELS IN NUMPY ARRAY FORMAT \n",
    "emotion_labels = np.array(emotion_df['label'])\n",
    "violence_labels = np.array(violence_df['label'])\n",
    "hateSpeech_labels = np.array(hateSpeech_df['label'])\n",
    "sentiment_labels = np.array(sentiment_df['label'])"
   ]
  },
  {
   "cell_type": "markdown",
   "id": "92a47371",
   "metadata": {},
   "source": [
    "Model Architecture "
   ]
  },
  {
   "cell_type": "code",
   "execution_count": 190,
   "id": "ae821ee1",
   "metadata": {},
   "outputs": [],
   "source": [
    "emotion_input = emotion_pad\n",
    "violence_input = violence_pad\n",
    "hateSpeech_input = hateSpeech_pad\n",
    "sentiment_input = sentiment_pad"
   ]
  },
  {
   "cell_type": "code",
   "execution_count": 191,
   "id": "799711c7",
   "metadata": {},
   "outputs": [],
   "source": [
    "#MULTIPLE INPUT LAYERS \n",
    "emotion_input_layer = keras.layers.Input(shape = (max_length), name = 'emotion_input')\n",
    "violence_input_layer = keras.layers.Input(shape=(max_length), name='violence_input')\n",
    "hateSpeech_input_layer = keras.layers.Input(shape=(max_length),name='hateSpeech_input')\n",
    "sentiment_input_layer = keras.layers.Input(shape=(max_length),name='sentiment_input')"
   ]
  },
  {
   "cell_type": "code",
   "execution_count": 192,
   "id": "cb1cee63",
   "metadata": {},
   "outputs": [],
   "source": [
    "#SHARED LAYER \n",
    "embedding_layer = keras.layers.Embedding(input_dim = len(tokenizer.word_index) + 1, output_dim = 128 )"
   ]
  },
  {
   "cell_type": "code",
   "execution_count": 193,
   "id": "fe41bc33",
   "metadata": {},
   "outputs": [],
   "source": [
    "##APPLY THE SHARED LAYER TO EACH INPUT \n",
    "emotion_shared = embedding_layer(emotion_input_layer)\n",
    "violence_shared = embedding_layer(violence_input_layer)\n",
    "hateSpeech_shared = embedding_layer(hateSpeech_input_layer)\n",
    "sentiment_shared = embedding_layer(sentiment_input_layer)"
   ]
  },
  {
   "cell_type": "code",
   "execution_count": 194,
   "id": "aa17a388",
   "metadata": {},
   "outputs": [],
   "source": [
    "#SHARED LSTM LAYER \n",
    "shared_lstm = keras.layers.LSTM(64, return_sequences= True)"
   ]
  },
  {
   "cell_type": "code",
   "execution_count": 195,
   "id": "7d36e445",
   "metadata": {},
   "outputs": [],
   "source": [
    "emotion_lstm = shared_lstm(emotion_shared)\n",
    "violence_lstm = shared_lstm(violence_shared)\n",
    "hateSpeech_lstm = shared_lstm(hateSpeech_shared)\n",
    "sentiment_lstm = shared_lstm(sentiment_shared)"
   ]
  },
  {
   "cell_type": "code",
   "execution_count": 196,
   "id": "293cb323",
   "metadata": {},
   "outputs": [],
   "source": [
    "#SHARED GLOBAL POOLING AND DROPOUT LAYER \n",
    "shared_pooling = keras.layers.GlobalAveragePooling1D()\n",
    "shared_dropout = keras.layers.Dropout(0.5)"
   ]
  },
  {
   "cell_type": "code",
   "execution_count": 197,
   "id": "860b1385",
   "metadata": {},
   "outputs": [],
   "source": [
    "emotion_features  = shared_dropout(shared_pooling(emotion_lstm))\n",
    "violence_features  = shared_dropout(shared_pooling(violence_lstm))\n",
    "hateSpeech_features  = shared_dropout(shared_pooling(hateSpeech_lstm))\n",
    "sentiment_features  = shared_dropout(shared_pooling(sentiment_lstm))"
   ]
  },
  {
   "cell_type": "code",
   "execution_count": 198,
   "id": "57c5f6d3",
   "metadata": {},
   "outputs": [
    {
     "name": "stdout",
     "output_type": "stream",
     "text": [
      "6\n",
      "5\n",
      "3\n",
      "3\n"
     ]
    }
   ],
   "source": [
    "print(len(emotion_df['label'].unique()))\n",
    "print(len(violence_df['label'].unique()))\n",
    "print(len(hateSpeech_df['label'].unique()))\n",
    "print(len(sentiment['label'].unique()))"
   ]
  },
  {
   "cell_type": "code",
   "execution_count": 199,
   "id": "c5dcd4b4",
   "metadata": {},
   "outputs": [],
   "source": [
    "#OUTPUT LAYERS \n",
    "emotion_output = keras.layers.Dense(6,activation = 'softmax',name='emotion_output')(emotion_features)\n",
    "violence_output = keras.layers.Dense(5,activation = 'softmax',name='violence_output')(violence_features)\n",
    "hateSpeech_output = keras.layers.Dense(3,activation = 'softmax',name='hateSpeech_output')(hateSpeech_features)\n",
    "sentiment_output = keras.layers.Dense(3,activation = 'softmax',name='sentiment_output')(sentiment_features)"
   ]
  },
  {
   "cell_type": "code",
   "execution_count": 200,
   "id": "11ac7103",
   "metadata": {},
   "outputs": [
    {
     "data": {
      "text/plain": [
       "(TensorShape([None, 3]), TensorShape([None, 3]))"
      ]
     },
     "execution_count": 200,
     "metadata": {},
     "output_type": "execute_result"
    }
   ],
   "source": [
    "hateSpeech_output.shape,sentiment_output.shape"
   ]
  },
  {
   "cell_type": "code",
   "execution_count": 201,
   "id": "8a5ddca9",
   "metadata": {},
   "outputs": [],
   "source": [
    "#COMPILING THE MODEL\n",
    "model = keras.models.Model(inputs = [emotion_input_layer,violence_input_layer,hateSpeech_input_layer,sentiment_input_layer],\n",
    "                          outputs = [emotion_output, violence_output, hateSpeech_output,sentiment_output])\n",
    "model.compile(optimizer = 'adam', loss = {'emotion_output' : 'sparse_categorical_crossentropy',\n",
    "                                         'violence_output' : 'sparse_categorical_crossentropy',\n",
    "                                         'hateSpeech_output' : 'sparse_categorical_crossentropy',\n",
    "                                          'sentiment_output' : 'sparse_categorical_crossentropy',\n",
    "                                         },\n",
    "             metrics = {'emotion_output' : 'accuracy',\n",
    "                                         'violence_output' : 'accuracy',\n",
    "                                         'hateSpeech_output' : 'accuracy',\n",
    "                        'sentiment_output' : 'accuracy',\n",
    "                       })"
   ]
  },
  {
   "cell_type": "code",
   "execution_count": 202,
   "id": "994e1a58",
   "metadata": {},
   "outputs": [
    {
     "name": "stdout",
     "output_type": "stream",
     "text": [
      "Model: \"model_1\"\n",
      "__________________________________________________________________________________________________\n",
      " Layer (type)                   Output Shape         Param #     Connected to                     \n",
      "==================================================================================================\n",
      " emotion_input (InputLayer)     [(None, 50)]         0           []                               \n",
      "                                                                                                  \n",
      " violence_input (InputLayer)    [(None, 50)]         0           []                               \n",
      "                                                                                                  \n",
      " hateSpeech_input (InputLayer)  [(None, 50)]         0           []                               \n",
      "                                                                                                  \n",
      " sentiment_input (InputLayer)   [(None, 50)]         0           []                               \n",
      "                                                                                                  \n",
      " embedding_1 (Embedding)        (None, 50, 128)      6196992     ['emotion_input[0][0]',          \n",
      "                                                                  'violence_input[0][0]',         \n",
      "                                                                  'hateSpeech_input[0][0]',       \n",
      "                                                                  'sentiment_input[0][0]']        \n",
      "                                                                                                  \n",
      " lstm_1 (LSTM)                  (None, 50, 64)       49408       ['embedding_1[0][0]',            \n",
      "                                                                  'embedding_1[1][0]',            \n",
      "                                                                  'embedding_1[2][0]',            \n",
      "                                                                  'embedding_1[3][0]']            \n",
      "                                                                                                  \n",
      " global_average_pooling1d_1 (Gl  (None, 64)          0           ['lstm_1[0][0]',                 \n",
      " obalAveragePooling1D)                                            'lstm_1[1][0]',                 \n",
      "                                                                  'lstm_1[2][0]',                 \n",
      "                                                                  'lstm_1[3][0]']                 \n",
      "                                                                                                  \n",
      " dropout_1 (Dropout)            (None, 64)           0           ['global_average_pooling1d_1[0][0\n",
      "                                                                 ]',                              \n",
      "                                                                  'global_average_pooling1d_1[1][0\n",
      "                                                                 ]',                              \n",
      "                                                                  'global_average_pooling1d_1[2][0\n",
      "                                                                 ]',                              \n",
      "                                                                  'global_average_pooling1d_1[3][0\n",
      "                                                                 ]']                              \n",
      "                                                                                                  \n",
      " emotion_output (Dense)         (None, 6)            390         ['dropout_1[0][0]']              \n",
      "                                                                                                  \n",
      " violence_output (Dense)        (None, 5)            325         ['dropout_1[1][0]']              \n",
      "                                                                                                  \n",
      " hateSpeech_output (Dense)      (None, 3)            195         ['dropout_1[2][0]']              \n",
      "                                                                                                  \n",
      " sentiment_output (Dense)       (None, 3)            195         ['dropout_1[3][0]']              \n",
      "                                                                                                  \n",
      "==================================================================================================\n",
      "Total params: 6,247,505\n",
      "Trainable params: 6,247,505\n",
      "Non-trainable params: 0\n",
      "__________________________________________________________________________________________________\n"
     ]
    }
   ],
   "source": [
    "model.summary()"
   ]
  },
  {
   "cell_type": "code",
   "execution_count": 203,
   "id": "78708481",
   "metadata": {},
   "outputs": [
    {
     "name": "stdout",
     "output_type": "stream",
     "text": [
      "(12000, 50)\n",
      "(None, 3)\n"
     ]
    }
   ],
   "source": [
    "print(sentiment_input.shape)\n",
    "print(sentiment_output.shape)"
   ]
  },
  {
   "cell_type": "code",
   "execution_count": null,
   "id": "41e9d085",
   "metadata": {},
   "outputs": [],
   "source": []
  },
  {
   "cell_type": "code",
   "execution_count": 204,
   "id": "d35a9335",
   "metadata": {},
   "outputs": [
    {
     "name": "stdout",
     "output_type": "stream",
     "text": [
      "Epoch 1/10\n"
     ]
    },
    {
     "name": "stderr",
     "output_type": "stream",
     "text": [
      "2024-09-25 19:25:01.138882: I tensorflow/core/grappler/optimizers/custom_graph_optimizer_registry.cc:114] Plugin optimizer for device_type GPU is enabled.\n",
      "2024-09-25 19:25:01.461640: I tensorflow/core/grappler/optimizers/custom_graph_optimizer_registry.cc:114] Plugin optimizer for device_type GPU is enabled.\n",
      "2024-09-25 19:25:01.468854: I tensorflow/core/grappler/optimizers/custom_graph_optimizer_registry.cc:114] Plugin optimizer for device_type GPU is enabled.\n",
      "2024-09-25 19:25:01.472233: I tensorflow/core/grappler/optimizers/custom_graph_optimizer_registry.cc:114] Plugin optimizer for device_type GPU is enabled.\n",
      "2024-09-25 19:25:01.484226: I tensorflow/core/grappler/optimizers/custom_graph_optimizer_registry.cc:114] Plugin optimizer for device_type GPU is enabled.\n",
      "2024-09-25 19:25:02.679174: I tensorflow/core/grappler/optimizers/custom_graph_optimizer_registry.cc:114] Plugin optimizer for device_type GPU is enabled.\n",
      "2024-09-25 19:25:02.686270: I tensorflow/core/grappler/optimizers/custom_graph_optimizer_registry.cc:114] Plugin optimizer for device_type GPU is enabled.\n",
      "2024-09-25 19:25:02.689950: I tensorflow/core/grappler/optimizers/custom_graph_optimizer_registry.cc:114] Plugin optimizer for device_type GPU is enabled.\n",
      "2024-09-25 19:25:02.707606: I tensorflow/core/grappler/optimizers/custom_graph_optimizer_registry.cc:114] Plugin optimizer for device_type GPU is enabled.\n"
     ]
    },
    {
     "name": "stdout",
     "output_type": "stream",
     "text": [
      "3000/3000 [==============================] - 250s 82ms/step - loss: 3.2124 - emotion_output_loss: 1.4427 - violence_output_loss: 0.2104 - hateSpeech_output_loss: 0.5661 - sentiment_output_loss: 0.9932 - emotion_output_accuracy: 0.3685 - violence_output_accuracy: 0.9298 - hateSpeech_output_accuracy: 0.7798 - sentiment_output_accuracy: 0.4962\n",
      "Epoch 2/10\n",
      "3000/3000 [==============================] - 242s 81ms/step - loss: 1.6842 - emotion_output_loss: 0.5453 - violence_output_loss: 0.0460 - hateSpeech_output_loss: 0.3599 - sentiment_output_loss: 0.7329 - emotion_output_accuracy: 0.8165 - violence_output_accuracy: 0.9859 - hateSpeech_output_accuracy: 0.8731 - sentiment_output_accuracy: 0.6838\n",
      "Epoch 3/10\n",
      "3000/3000 [==============================] - 243s 81ms/step - loss: 0.9561 - emotion_output_loss: 0.2145 - violence_output_loss: 0.0117 - hateSpeech_output_loss: 0.2257 - sentiment_output_loss: 0.5042 - emotion_output_accuracy: 0.9325 - violence_output_accuracy: 0.9967 - hateSpeech_output_accuracy: 0.9201 - sentiment_output_accuracy: 0.8058\n",
      "Epoch 4/10\n",
      "3000/3000 [==============================] - 241s 80ms/step - loss: 0.5771 - emotion_output_loss: 0.1263 - violence_output_loss: 0.0046 - hateSpeech_output_loss: 0.1192 - sentiment_output_loss: 0.3269 - emotion_output_accuracy: 0.9585 - violence_output_accuracy: 0.9990 - hateSpeech_output_accuracy: 0.9588 - sentiment_output_accuracy: 0.8818\n",
      "Epoch 5/10\n",
      "3000/3000 [==============================] - 242s 81ms/step - loss: 0.3609 - emotion_output_loss: 0.0834 - violence_output_loss: 0.0028 - hateSpeech_output_loss: 0.0642 - sentiment_output_loss: 0.2106 - emotion_output_accuracy: 0.9702 - violence_output_accuracy: 0.9995 - hateSpeech_output_accuracy: 0.9786 - sentiment_output_accuracy: 0.9278\n",
      "Epoch 6/10\n",
      "3000/3000 [==============================] - 242s 81ms/step - loss: 0.2510 - emotion_output_loss: 0.0653 - violence_output_loss: 0.0012 - hateSpeech_output_loss: 0.0390 - sentiment_output_loss: 0.1455 - emotion_output_accuracy: 0.9768 - violence_output_accuracy: 0.9999 - hateSpeech_output_accuracy: 0.9876 - sentiment_output_accuracy: 0.9498\n",
      "Epoch 7/10\n",
      "3000/3000 [==============================] - 244s 81ms/step - loss: 0.1887 - emotion_output_loss: 0.0529 - violence_output_loss: 0.0010 - hateSpeech_output_loss: 0.0245 - sentiment_output_loss: 0.1103 - emotion_output_accuracy: 0.9800 - violence_output_accuracy: 0.9998 - hateSpeech_output_accuracy: 0.9924 - sentiment_output_accuracy: 0.9634\n",
      "Epoch 8/10\n",
      "3000/3000 [==============================] - 722s 241ms/step - loss: 0.1415 - emotion_output_loss: 0.0387 - violence_output_loss: 5.8876e-04 - hateSpeech_output_loss: 0.0181 - sentiment_output_loss: 0.0841 - emotion_output_accuracy: 0.9861 - violence_output_accuracy: 0.9998 - hateSpeech_output_accuracy: 0.9937 - sentiment_output_accuracy: 0.9718\n",
      "Epoch 9/10\n",
      "3000/3000 [==============================] - 241s 80ms/step - loss: 0.1137 - emotion_output_loss: 0.0367 - violence_output_loss: 0.0013 - hateSpeech_output_loss: 0.0097 - sentiment_output_loss: 0.0659 - emotion_output_accuracy: 0.9868 - violence_output_accuracy: 0.9996 - hateSpeech_output_accuracy: 0.9962 - sentiment_output_accuracy: 0.9774\n",
      "Epoch 10/10\n",
      "3000/3000 [==============================] - 241s 80ms/step - loss: 0.0973 - emotion_output_loss: 0.0331 - violence_output_loss: 9.8975e-04 - hateSpeech_output_loss: 0.0081 - sentiment_output_loss: 0.0551 - emotion_output_accuracy: 0.9868 - violence_output_accuracy: 0.9998 - hateSpeech_output_accuracy: 0.9973 - sentiment_output_accuracy: 0.9801\n"
     ]
    },
    {
     "data": {
      "text/plain": [
       "<keras.callbacks.History at 0x29c53ec80>"
      ]
     },
     "execution_count": 204,
     "metadata": {},
     "output_type": "execute_result"
    }
   ],
   "source": [
    "#TRAINING MODEL\n",
    "model.fit(x = {'emotion_input' : emotion_input, 'violence_input' : violence_input, 'hateSpeech_input' : hateSpeech_input,'sentiment_input': sentiment_input},\n",
    "         y = {'emotion_output' : emotion_labels, 'violence_output' : violence_labels, 'hateSpeech_output' : hateSpeech_labels, 'sentiment_output' : sentiment_labels},\n",
    "         epochs = 10,\n",
    "         batch_size = 4)"
   ]
  },
  {
   "cell_type": "code",
   "execution_count": 205,
   "id": "61798314",
   "metadata": {},
   "outputs": [
    {
     "name": "stderr",
     "output_type": "stream",
     "text": [
      "2024-09-25 20:13:34.624465: I tensorflow/core/grappler/optimizers/custom_graph_optimizer_registry.cc:114] Plugin optimizer for device_type GPU is enabled.\n",
      "2024-09-25 20:13:34.776741: I tensorflow/core/grappler/optimizers/custom_graph_optimizer_registry.cc:114] Plugin optimizer for device_type GPU is enabled.\n",
      "2024-09-25 20:13:34.783146: I tensorflow/core/grappler/optimizers/custom_graph_optimizer_registry.cc:114] Plugin optimizer for device_type GPU is enabled.\n",
      "2024-09-25 20:13:34.789637: I tensorflow/core/grappler/optimizers/custom_graph_optimizer_registry.cc:114] Plugin optimizer for device_type GPU is enabled.\n",
      "2024-09-25 20:13:34.796336: I tensorflow/core/grappler/optimizers/custom_graph_optimizer_registry.cc:114] Plugin optimizer for device_type GPU is enabled.\n"
     ]
    },
    {
     "name": "stdout",
     "output_type": "stream",
     "text": [
      "375/375 [==============================] - 13s 30ms/step\n"
     ]
    }
   ],
   "source": [
    "prediction = model.predict({'emotion_input' : emotion_input, 'violence_input' : violence_input, 'hateSpeech_input' : hateSpeech_input,'sentiment_input' : sentiment_input})"
   ]
  },
  {
   "cell_type": "code",
   "execution_count": 206,
   "id": "fce39daa",
   "metadata": {},
   "outputs": [],
   "source": [
    "emotion_pred = np.argmax(prediction[0],axis = 1 )\n",
    "violence_pred = np.argmax(prediction[1],axis = 1 )\n",
    "hateSpeech_pred = np.argmax(prediction[2],axis = 1 )\n",
    "sentiment_pred = np.argmax(prediction[3],axis = 1 )"
   ]
  },
  {
   "cell_type": "code",
   "execution_count": 207,
   "id": "d6f4a1bc",
   "metadata": {},
   "outputs": [
    {
     "data": {
      "text/plain": [
       "array([0, 0, 0, ..., 5, 5, 5])"
      ]
     },
     "execution_count": 207,
     "metadata": {},
     "output_type": "execute_result"
    }
   ],
   "source": [
    "emotion_pred"
   ]
  },
  {
   "cell_type": "code",
   "execution_count": 208,
   "id": "1ab5547f",
   "metadata": {},
   "outputs": [
    {
     "data": {
      "text/plain": [
       "(array([2, 0, 1]), array([0, 1, 2]))"
      ]
     },
     "execution_count": 208,
     "metadata": {},
     "output_type": "execute_result"
    }
   ],
   "source": [
    "hateSpeech_df['label'].unique(), sentiment_df['label'].unique()"
   ]
  },
  {
   "cell_type": "code",
   "execution_count": 209,
   "id": "0aac0b51",
   "metadata": {},
   "outputs": [],
   "source": [
    "def plot_cm(true, pred, title, labels):\n",
    "  cf = confusion_matrix(true, pred, normalize = 'true')\n",
    "  plt.figure(figsize = (7, 6))\n",
    "  sns.heatmap(cf, annot = True, cmap = 'Blues', xticklabels=labels, yticklabels = labels)\n",
    "  plt.title(title)\n",
    "  plt.ylabel('Actual')\n",
    "  plt.xlabel('Prediction')\n",
    "\n",
    "emotion_labels_text = ['sadness', 'joy', 'love', 'anger', 'fear', 'surprise']\n",
    "violence_labels_text = ['physical_violence','emotional_violence','Harmful_traditional_practice', 'economic violence','sexual_violence'  ]\n",
    "hateSpeech_labels_text = [ 'Neither', 'Hate Speech','offensive speech']\n",
    "sentiment_labels_text = ['Negative','Neutral','Positive']"
   ]
  },
  {
   "cell_type": "code",
   "execution_count": 210,
   "id": "0996d6b1",
   "metadata": {},
   "outputs": [
    {
     "data": {
      "image/png": "[encoded data removed]",
      "text/plain": [
       "<Figure size 700x600 with 2 Axes>"
      ]
     },
     "metadata": {},
     "output_type": "display_data"
    },
    {
     "data": {
      "image/png": "[encoded data removed]",
      "text/plain": [
       "<Figure size 700x600 with 2 Axes>"
      ]
     },
     "metadata": {},
     "output_type": "display_data"
    },
    {
     "data": {
      "image/png": "[encoded data removed]",
      "text/plain": [
       "<Figure size 700x600 with 2 Axes>"
      ]
     },
     "metadata": {},
     "output_type": "display_data"
    },
    {
     "data": {
      "image/png": "[encoded data removed]",
      "text/plain": [
       "<Figure size 700x600 with 2 Axes>"
      ]
     },
     "metadata": {},
     "output_type": "display_data"
    }
   ],
   "source": [
    "plot_cm(emotion_labels, emotion_pred, 'Confusion Matrix for Emotion', emotion_labels_text)\n",
    "plot_cm(violence_labels, violence_pred, 'Confusion Matrix for violence', violence_labels_text)\n",
    "plot_cm(hateSpeech_labels, hateSpeech_pred, 'Confusion Matrix for Hate', hateSpeech_labels_text)\n",
    "plot_cm(sentiment_labels, sentiment_pred, 'Confusion Matrix for Sentiment', sentiment_labels_text)"
   ]
  },
  {
   "cell_type": "code",
   "execution_count": 211,
   "id": "ed56bfc4",
   "metadata": {},
   "outputs": [
    {
     "data": {
      "text/plain": [
       "(array([0, 1, 2, 3, 4, 5]), array([1, 3, 0, 2, 4]), array([2, 0, 1]))"
      ]
     },
     "execution_count": 211,
     "metadata": {},
     "output_type": "execute_result"
    }
   ],
   "source": [
    "emotion_df['label'].unique(), violence_df['label'].unique(), hateSpeech_df['label'].unique()"
   ]
  },
  {
   "cell_type": "code",
   "execution_count": 212,
   "id": "79b437c0",
   "metadata": {},
   "outputs": [],
   "source": [
    "def classify_text(input_text):\n",
    "  #preprocess the input text\n",
    "  input_text_cleaned = remove_stopwords(input_text)\n",
    "  input_sequence = tokenizer.texts_to_sequences([input_text_cleaned])\n",
    "  input_padded = pad_sequences(input_sequence, maxlen = max_length, padding = 'post')\n",
    "\n",
    "  #prediction\n",
    "  predictions = model.predict({'emotion_input' : input_padded,\n",
    "                            'violence_input' : input_padded,\n",
    "                            'hateSpeech_input' : input_padded,\n",
    "                              'sentiment_input' : input_padded})\n",
    "  emotion_pred = np.argmax(predictions[0], axis = 1)[0]\n",
    "  violence_pred = np.argmax(predictions[1], axis = 1)[0]\n",
    "  hateSpeech_pred = np.argmax(predictions[2], axis = 1)[0]\n",
    "  sentiment_pred = np.argmax(predictions[3], axis = 1)[0]\n",
    "\n",
    "  #determine major label\n",
    "  major_labels = ['Emotion', 'Violence', 'Hate']\n",
    "  major_label_index = np.argmax([np.max(predictions[0]), np.max(predictions[1]), np.max(predictions[2])])\n",
    "  major_label = major_labels[major_label_index]\n",
    "\n",
    "  #determing sub - labels\n",
    "  emotion_labels_text = ['sadness', 'joy', 'love', 'anger', 'fear', 'surprise']\n",
    "  violence_labels_text = ['sexual_violence', 'physical_violence', 'emotional_violence', 'Harmful_traditional_practice', 'economic violence']\n",
    "  hateSpeech_labels_text =  ['Neither', 'Hate Speech','offensive speech']\n",
    "  sentiment_labels_text = ['Negative','Neutral','Positive']\n",
    "\n",
    "  if major_label == 'Emotion':\n",
    "    sub_label = emotion_labels_text[emotion_pred]\n",
    "  elif major_label == 'Violence':\n",
    "    sub_label = violence_labels_text[violence_pred]\n",
    "  else:\n",
    "    sub_label = hateSpeech_labels_text[hateSpeech_pred]\n",
    "\n",
    "  return major_label, sub_label,sentiment_labels_text[sentiment_pred]"
   ]
  },
  {
   "cell_type": "code",
   "execution_count": 213,
   "id": "54fa9b5a",
   "metadata": {},
   "outputs": [],
   "source": [
    "import ipywidgets as widgets\n",
    "from IPython.display import display"
   ]
  },
  {
   "cell_type": "code",
   "execution_count": 214,
   "id": "6471c577",
   "metadata": {},
   "outputs": [],
   "source": [
    "#define a text widget and a placeholder\n",
    "input_text_widget = widgets.Text(\n",
    "    description = 'Input text : ',\n",
    "    placeholder = 'Enter you text'\n",
    ")"
   ]
  },
  {
   "cell_type": "code",
   "execution_count": 215,
   "id": "900202f5",
   "metadata": {},
   "outputs": [],
   "source": [
    "#define classify button\n",
    "button = widgets.Button(description = 'classify')"
   ]
  },
  {
   "cell_type": "code",
   "execution_count": 216,
   "id": "95d274ea",
   "metadata": {},
   "outputs": [],
   "source": [
    "#define an output area to display result\n",
    "output = widgets.Output()"
   ]
  },
  {
   "cell_type": "code",
   "execution_count": 217,
   "id": "5cea13a2",
   "metadata": {},
   "outputs": [],
   "source": [
    "#function to handle event\n",
    "def on_button_click(b):\n",
    "  with output:\n",
    "    output.clear_output()   #clear the previous output\n",
    "    input_text = input_text_widget.value\n",
    "    major_label, sub_label,sentiment_label = classify_text(input_text)\n",
    "    print(f'Sentiment Label : {sentiment_label}')\n",
    "    print(f'Major Label : {major_label}')\n",
    "    print(f'Sub Label : {sub_label}')\n",
    "\n",
    "#attach the button at bottom\n",
    "button.on_click(on_button_click)"
   ]
  },
  {
   "cell_type": "code",
   "execution_count": 218,
   "id": "2150f0f5",
   "metadata": {
    "scrolled": true
   },
   "outputs": [
    {
     "data": {
      "application/vnd.jupyter.widget-view+json": {
       "model_id": "83f4ab9e13714759b743ec7fb84c0037",
       "version_major": 2,
       "version_minor": 0
      },
      "text/plain": [
       "Text(value='', description='Input text : ', placeholder='Enter you text')"
      ]
     },
     "metadata": {},
     "output_type": "display_data"
    },
    {
     "data": {
      "application/vnd.jupyter.widget-view+json": {
       "model_id": "8234c389136440a4bab6e7fa21b8d649",
       "version_major": 2,
       "version_minor": 0
      },
      "text/plain": [
       "Button(description='classify', style=ButtonStyle())"
      ]
     },
     "metadata": {},
     "output_type": "display_data"
    },
    {
     "data": {
      "application/vnd.jupyter.widget-view+json": {
       "model_id": "cd51906db5374471b550ccdf6039d93e",
       "version_major": 2,
       "version_minor": 0
      },
      "text/plain": [
       "Output()"
      ]
     },
     "metadata": {},
     "output_type": "display_data"
    }
   ],
   "source": [
    "display(input_text_widget, button, output)"
   ]
  },
  {
   "cell_type": "code",
   "execution_count": null,
   "id": "e408fb49",
   "metadata": {},
   "outputs": [],
   "source": []
  },
  {
   "cell_type": "code",
   "execution_count": null,
   "id": "887b0c56",
   "metadata": {},
   "outputs": [],
   "source": []
  }
 ],
 "metadata": {
  "kernelspec": {
   "display_name": "Py37",
   "language": "python",
   "name": "py37"
  },
  "language_info": {
   "codemirror_mode": {
    "name": "ipython",
    "version": 3
   },
   "file_extension": ".py",
   "mimetype": "text/x-python",
   "name": "python",
   "nbconvert_exporter": "python",
   "pygments_lexer": "ipython3",
   "version": "3.10.6"
  }
 },
 "nbformat": 4,
 "nbformat_minor": 5
}
