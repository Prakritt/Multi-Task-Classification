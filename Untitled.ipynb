{
 "cells": [
  {
   "cell_type": "code",
   "execution_count": 1,
   "id": "ee0ffff1",
   "metadata": {},
   "outputs": [],
   "source": [
    "import pandas as pd\n",
    "from sklearn.preprocessing import LabelEncoder\n",
    "import warnings \n",
    "import nltk\n",
    "from nltk.corpus import stopwords\n",
    "from tensorflow.keras.preprocessing.text import Tokenizer\n",
    "from tensorflow.keras.preprocessing.sequence import pad_sequences\n",
    "from tensorflow import keras \n",
    "import numpy as np \n",
    "import seaborn as sns \n",
    "from sklearn.metrics import confusion_matrix\n",
    "import matplotlib.pyplot as plt "
   ]
  },
  {
   "cell_type": "code",
   "execution_count": 2,
   "id": "a0e1fc26",
   "metadata": {},
   "outputs": [],
   "source": [
    "emotion_df = pd.read_csv(\"emotions.csv\")"
   ]
  },
  {
   "cell_type": "code",
   "execution_count": 3,
   "id": "acabc68f",
   "metadata": {},
   "outputs": [
    {
     "data": {
      "text/html": [
       "<div>\n",
       "<style scoped>\n",
       "    .dataframe tbody tr th:only-of-type {\n",
       "        vertical-align: middle;\n",
       "    }\n",
       "\n",
       "    .dataframe tbody tr th {\n",
       "        vertical-align: top;\n",
       "    }\n",
       "\n",
       "    .dataframe thead th {\n",
       "        text-align: right;\n",
       "    }\n",
       "</style>\n",
       "<table border=\"1\" class=\"dataframe\">\n",
       "  <thead>\n",
       "    <tr style=\"text-align: right;\">\n",
       "      <th></th>\n",
       "      <th>Unnamed: 0</th>\n",
       "      <th>text</th>\n",
       "      <th>label</th>\n",
       "    </tr>\n",
       "  </thead>\n",
       "  <tbody>\n",
       "    <tr>\n",
       "      <th>0</th>\n",
       "      <td>0</td>\n",
       "      <td>i just feel really helpless and heavy hearted</td>\n",
       "      <td>4</td>\n",
       "    </tr>\n",
       "    <tr>\n",
       "      <th>1</th>\n",
       "      <td>1</td>\n",
       "      <td>ive enjoyed being able to slouch about relax a...</td>\n",
       "      <td>0</td>\n",
       "    </tr>\n",
       "    <tr>\n",
       "      <th>2</th>\n",
       "      <td>2</td>\n",
       "      <td>i gave up my internship with the dmrg and am f...</td>\n",
       "      <td>4</td>\n",
       "    </tr>\n",
       "    <tr>\n",
       "      <th>3</th>\n",
       "      <td>3</td>\n",
       "      <td>i dont know i feel so lost</td>\n",
       "      <td>0</td>\n",
       "    </tr>\n",
       "    <tr>\n",
       "      <th>4</th>\n",
       "      <td>4</td>\n",
       "      <td>i am a kindergarten teacher and i am thoroughl...</td>\n",
       "      <td>4</td>\n",
       "    </tr>\n",
       "  </tbody>\n",
       "</table>\n",
       "</div>"
      ],
      "text/plain": [
       "   Unnamed: 0                                               text  label\n",
       "0           0      i just feel really helpless and heavy hearted      4\n",
       "1           1  ive enjoyed being able to slouch about relax a...      0\n",
       "2           2  i gave up my internship with the dmrg and am f...      4\n",
       "3           3                         i dont know i feel so lost      0\n",
       "4           4  i am a kindergarten teacher and i am thoroughl...      4"
      ]
     },
     "execution_count": 3,
     "metadata": {},
     "output_type": "execute_result"
    }
   ],
   "source": [
    "emotion_df.head()"
   ]
  },
  {
   "cell_type": "code",
   "execution_count": 4,
   "id": "7320e045",
   "metadata": {},
   "outputs": [],
   "source": [
    "violence_df = pd.read_csv(\"violence.csv\")"
   ]
  },
  {
   "cell_type": "code",
   "execution_count": 5,
   "id": "b9673593",
   "metadata": {
    "scrolled": true
   },
   "outputs": [
    {
     "data": {
      "text/html": [
       "<div>\n",
       "<style scoped>\n",
       "    .dataframe tbody tr th:only-of-type {\n",
       "        vertical-align: middle;\n",
       "    }\n",
       "\n",
       "    .dataframe tbody tr th {\n",
       "        vertical-align: top;\n",
       "    }\n",
       "\n",
       "    .dataframe thead th {\n",
       "        text-align: right;\n",
       "    }\n",
       "</style>\n",
       "<table border=\"1\" class=\"dataframe\">\n",
       "  <thead>\n",
       "    <tr style=\"text-align: right;\">\n",
       "      <th></th>\n",
       "      <th>Tweet_ID</th>\n",
       "      <th>tweet</th>\n",
       "      <th>type</th>\n",
       "    </tr>\n",
       "  </thead>\n",
       "  <tbody>\n",
       "    <tr>\n",
       "      <th>0</th>\n",
       "      <td>ID_0022DWKP</td>\n",
       "      <td>Had a dream i got raped last night. By a guy i...</td>\n",
       "      <td>sexual_violence</td>\n",
       "    </tr>\n",
       "    <tr>\n",
       "      <th>1</th>\n",
       "      <td>ID_00395QYM</td>\n",
       "      <td>he thought the word raped means sex and told m...</td>\n",
       "      <td>sexual_violence</td>\n",
       "    </tr>\n",
       "    <tr>\n",
       "      <th>2</th>\n",
       "      <td>ID_003EOSSF</td>\n",
       "      <td>She NOT TALKING TO ME I WAS RAPED BY 2 MEN 1 M...</td>\n",
       "      <td>sexual_violence</td>\n",
       "    </tr>\n",
       "    <tr>\n",
       "      <th>3</th>\n",
       "      <td>ID_004BBHOD</td>\n",
       "      <td>I was sexually abused for 3 years at age 4 to ...</td>\n",
       "      <td>sexual_violence</td>\n",
       "    </tr>\n",
       "    <tr>\n",
       "      <th>4</th>\n",
       "      <td>ID_004F7516</td>\n",
       "      <td>Chessy Prout can do better by telling the trut...</td>\n",
       "      <td>sexual_violence</td>\n",
       "    </tr>\n",
       "  </tbody>\n",
       "</table>\n",
       "</div>"
      ],
      "text/plain": [
       "      Tweet_ID                                              tweet  \\\n",
       "0  ID_0022DWKP  Had a dream i got raped last night. By a guy i...   \n",
       "1  ID_00395QYM  he thought the word raped means sex and told m...   \n",
       "2  ID_003EOSSF  She NOT TALKING TO ME I WAS RAPED BY 2 MEN 1 M...   \n",
       "3  ID_004BBHOD  I was sexually abused for 3 years at age 4 to ...   \n",
       "4  ID_004F7516  Chessy Prout can do better by telling the trut...   \n",
       "\n",
       "              type  \n",
       "0  sexual_violence  \n",
       "1  sexual_violence  \n",
       "2  sexual_violence  \n",
       "3  sexual_violence  \n",
       "4  sexual_violence  "
      ]
     },
     "execution_count": 5,
     "metadata": {},
     "output_type": "execute_result"
    }
   ],
   "source": [
    "violence_df.head()"
   ]
  },
  {
   "cell_type": "code",
   "execution_count": 6,
   "id": "e4e9497b",
   "metadata": {},
   "outputs": [],
   "source": [
    "hateSpeech_df = pd.read_csv(\"hateSpeech.csv\")"
   ]
  },
  {
   "cell_type": "code",
   "execution_count": 7,
   "id": "52a31c38",
   "metadata": {},
   "outputs": [
    {
     "data": {
      "text/html": [
       "<div>\n",
       "<style scoped>\n",
       "    .dataframe tbody tr th:only-of-type {\n",
       "        vertical-align: middle;\n",
       "    }\n",
       "\n",
       "    .dataframe tbody tr th {\n",
       "        vertical-align: top;\n",
       "    }\n",
       "\n",
       "    .dataframe thead th {\n",
       "        text-align: right;\n",
       "    }\n",
       "</style>\n",
       "<table border=\"1\" class=\"dataframe\">\n",
       "  <thead>\n",
       "    <tr style=\"text-align: right;\">\n",
       "      <th></th>\n",
       "      <th>Unnamed: 0</th>\n",
       "      <th>count</th>\n",
       "      <th>hate_speech</th>\n",
       "      <th>offensive_language</th>\n",
       "      <th>neither</th>\n",
       "      <th>class</th>\n",
       "      <th>tweet</th>\n",
       "    </tr>\n",
       "  </thead>\n",
       "  <tbody>\n",
       "    <tr>\n",
       "      <th>0</th>\n",
       "      <td>0</td>\n",
       "      <td>3</td>\n",
       "      <td>0</td>\n",
       "      <td>0</td>\n",
       "      <td>3</td>\n",
       "      <td>2</td>\n",
       "      <td>!!! RT @mayasolovely: As a woman you shouldn't...</td>\n",
       "    </tr>\n",
       "    <tr>\n",
       "      <th>1</th>\n",
       "      <td>1</td>\n",
       "      <td>3</td>\n",
       "      <td>0</td>\n",
       "      <td>3</td>\n",
       "      <td>0</td>\n",
       "      <td>1</td>\n",
       "      <td>!!!!! RT @mleew17: boy dats cold...tyga dwn ba...</td>\n",
       "    </tr>\n",
       "    <tr>\n",
       "      <th>2</th>\n",
       "      <td>2</td>\n",
       "      <td>3</td>\n",
       "      <td>0</td>\n",
       "      <td>3</td>\n",
       "      <td>0</td>\n",
       "      <td>1</td>\n",
       "      <td>!!!!!!! RT @UrKindOfBrand Dawg!!!! RT @80sbaby...</td>\n",
       "    </tr>\n",
       "    <tr>\n",
       "      <th>3</th>\n",
       "      <td>3</td>\n",
       "      <td>3</td>\n",
       "      <td>0</td>\n",
       "      <td>2</td>\n",
       "      <td>1</td>\n",
       "      <td>1</td>\n",
       "      <td>!!!!!!!!! RT @C_G_Anderson: @viva_based she lo...</td>\n",
       "    </tr>\n",
       "    <tr>\n",
       "      <th>4</th>\n",
       "      <td>4</td>\n",
       "      <td>6</td>\n",
       "      <td>0</td>\n",
       "      <td>6</td>\n",
       "      <td>0</td>\n",
       "      <td>1</td>\n",
       "      <td>!!!!!!!!!!!!! RT @ShenikaRoberts: The shit you...</td>\n",
       "    </tr>\n",
       "  </tbody>\n",
       "</table>\n",
       "</div>"
      ],
      "text/plain": [
       "   Unnamed: 0  count  hate_speech  offensive_language  neither  class  \\\n",
       "0           0      3            0                   0        3      2   \n",
       "1           1      3            0                   3        0      1   \n",
       "2           2      3            0                   3        0      1   \n",
       "3           3      3            0                   2        1      1   \n",
       "4           4      6            0                   6        0      1   \n",
       "\n",
       "                                               tweet  \n",
       "0  !!! RT @mayasolovely: As a woman you shouldn't...  \n",
       "1  !!!!! RT @mleew17: boy dats cold...tyga dwn ba...  \n",
       "2  !!!!!!! RT @UrKindOfBrand Dawg!!!! RT @80sbaby...  \n",
       "3  !!!!!!!!! RT @C_G_Anderson: @viva_based she lo...  \n",
       "4  !!!!!!!!!!!!! RT @ShenikaRoberts: The shit you...  "
      ]
     },
     "execution_count": 7,
     "metadata": {},
     "output_type": "execute_result"
    }
   ],
   "source": [
    "hateSpeech_df.head()"
   ]
  },
  {
   "cell_type": "markdown",
   "id": "1e58c6ef",
   "metadata": {},
   "source": [
    "Preprocessing The Data"
   ]
  },
  {
   "cell_type": "code",
   "execution_count": 8,
   "id": "01147089",
   "metadata": {},
   "outputs": [],
   "source": [
    "#Dropping unwanted columns\n",
    "emotion_df.drop(columns = ['Unnamed: 0'],inplace = True)"
   ]
  },
  {
   "cell_type": "code",
   "execution_count": 9,
   "id": "675b71df",
   "metadata": {},
   "outputs": [],
   "source": [
    "violence_df.drop(columns = ['Tweet_ID'], inplace = True)"
   ]
  },
  {
   "cell_type": "code",
   "execution_count": 10,
   "id": "3da49aea",
   "metadata": {},
   "outputs": [],
   "source": [
    "hateSpeech_df = hateSpeech_df[['tweet','class']]"
   ]
  },
  {
   "cell_type": "code",
   "execution_count": 11,
   "id": "46338aa6",
   "metadata": {},
   "outputs": [
    {
     "data": {
      "text/html": [
       "<div>\n",
       "<style scoped>\n",
       "    .dataframe tbody tr th:only-of-type {\n",
       "        vertical-align: middle;\n",
       "    }\n",
       "\n",
       "    .dataframe tbody tr th {\n",
       "        vertical-align: top;\n",
       "    }\n",
       "\n",
       "    .dataframe thead th {\n",
       "        text-align: right;\n",
       "    }\n",
       "</style>\n",
       "<table border=\"1\" class=\"dataframe\">\n",
       "  <thead>\n",
       "    <tr style=\"text-align: right;\">\n",
       "      <th></th>\n",
       "      <th>text</th>\n",
       "      <th>label</th>\n",
       "    </tr>\n",
       "  </thead>\n",
       "  <tbody>\n",
       "    <tr>\n",
       "      <th>0</th>\n",
       "      <td>i just feel really helpless and heavy hearted</td>\n",
       "      <td>4</td>\n",
       "    </tr>\n",
       "    <tr>\n",
       "      <th>1</th>\n",
       "      <td>ive enjoyed being able to slouch about relax a...</td>\n",
       "      <td>0</td>\n",
       "    </tr>\n",
       "    <tr>\n",
       "      <th>2</th>\n",
       "      <td>i gave up my internship with the dmrg and am f...</td>\n",
       "      <td>4</td>\n",
       "    </tr>\n",
       "    <tr>\n",
       "      <th>3</th>\n",
       "      <td>i dont know i feel so lost</td>\n",
       "      <td>0</td>\n",
       "    </tr>\n",
       "    <tr>\n",
       "      <th>4</th>\n",
       "      <td>i am a kindergarten teacher and i am thoroughl...</td>\n",
       "      <td>4</td>\n",
       "    </tr>\n",
       "  </tbody>\n",
       "</table>\n",
       "</div>"
      ],
      "text/plain": [
       "                                                text  label\n",
       "0      i just feel really helpless and heavy hearted      4\n",
       "1  ive enjoyed being able to slouch about relax a...      0\n",
       "2  i gave up my internship with the dmrg and am f...      4\n",
       "3                         i dont know i feel so lost      0\n",
       "4  i am a kindergarten teacher and i am thoroughl...      4"
      ]
     },
     "execution_count": 11,
     "metadata": {},
     "output_type": "execute_result"
    }
   ],
   "source": [
    "emotion_df.head()\n"
   ]
  },
  {
   "cell_type": "code",
   "execution_count": 12,
   "id": "0e8cfa83",
   "metadata": {},
   "outputs": [
    {
     "data": {
      "text/html": [
       "<div>\n",
       "<style scoped>\n",
       "    .dataframe tbody tr th:only-of-type {\n",
       "        vertical-align: middle;\n",
       "    }\n",
       "\n",
       "    .dataframe tbody tr th {\n",
       "        vertical-align: top;\n",
       "    }\n",
       "\n",
       "    .dataframe thead th {\n",
       "        text-align: right;\n",
       "    }\n",
       "</style>\n",
       "<table border=\"1\" class=\"dataframe\">\n",
       "  <thead>\n",
       "    <tr style=\"text-align: right;\">\n",
       "      <th></th>\n",
       "      <th>tweet</th>\n",
       "      <th>type</th>\n",
       "    </tr>\n",
       "  </thead>\n",
       "  <tbody>\n",
       "    <tr>\n",
       "      <th>0</th>\n",
       "      <td>Had a dream i got raped last night. By a guy i...</td>\n",
       "      <td>sexual_violence</td>\n",
       "    </tr>\n",
       "    <tr>\n",
       "      <th>1</th>\n",
       "      <td>he thought the word raped means sex and told m...</td>\n",
       "      <td>sexual_violence</td>\n",
       "    </tr>\n",
       "    <tr>\n",
       "      <th>2</th>\n",
       "      <td>She NOT TALKING TO ME I WAS RAPED BY 2 MEN 1 M...</td>\n",
       "      <td>sexual_violence</td>\n",
       "    </tr>\n",
       "    <tr>\n",
       "      <th>3</th>\n",
       "      <td>I was sexually abused for 3 years at age 4 to ...</td>\n",
       "      <td>sexual_violence</td>\n",
       "    </tr>\n",
       "    <tr>\n",
       "      <th>4</th>\n",
       "      <td>Chessy Prout can do better by telling the trut...</td>\n",
       "      <td>sexual_violence</td>\n",
       "    </tr>\n",
       "  </tbody>\n",
       "</table>\n",
       "</div>"
      ],
      "text/plain": [
       "                                               tweet             type\n",
       "0  Had a dream i got raped last night. By a guy i...  sexual_violence\n",
       "1  he thought the word raped means sex and told m...  sexual_violence\n",
       "2  She NOT TALKING TO ME I WAS RAPED BY 2 MEN 1 M...  sexual_violence\n",
       "3  I was sexually abused for 3 years at age 4 to ...  sexual_violence\n",
       "4  Chessy Prout can do better by telling the trut...  sexual_violence"
      ]
     },
     "execution_count": 12,
     "metadata": {},
     "output_type": "execute_result"
    }
   ],
   "source": [
    "violence_df.head()"
   ]
  },
  {
   "cell_type": "code",
   "execution_count": 13,
   "id": "e898e2ef",
   "metadata": {},
   "outputs": [
    {
     "data": {
      "text/html": [
       "<div>\n",
       "<style scoped>\n",
       "    .dataframe tbody tr th:only-of-type {\n",
       "        vertical-align: middle;\n",
       "    }\n",
       "\n",
       "    .dataframe tbody tr th {\n",
       "        vertical-align: top;\n",
       "    }\n",
       "\n",
       "    .dataframe thead th {\n",
       "        text-align: right;\n",
       "    }\n",
       "</style>\n",
       "<table border=\"1\" class=\"dataframe\">\n",
       "  <thead>\n",
       "    <tr style=\"text-align: right;\">\n",
       "      <th></th>\n",
       "      <th>tweet</th>\n",
       "      <th>class</th>\n",
       "    </tr>\n",
       "  </thead>\n",
       "  <tbody>\n",
       "    <tr>\n",
       "      <th>0</th>\n",
       "      <td>!!! RT @mayasolovely: As a woman you shouldn't...</td>\n",
       "      <td>2</td>\n",
       "    </tr>\n",
       "    <tr>\n",
       "      <th>1</th>\n",
       "      <td>!!!!! RT @mleew17: boy dats cold...tyga dwn ba...</td>\n",
       "      <td>1</td>\n",
       "    </tr>\n",
       "    <tr>\n",
       "      <th>2</th>\n",
       "      <td>!!!!!!! RT @UrKindOfBrand Dawg!!!! RT @80sbaby...</td>\n",
       "      <td>1</td>\n",
       "    </tr>\n",
       "    <tr>\n",
       "      <th>3</th>\n",
       "      <td>!!!!!!!!! RT @C_G_Anderson: @viva_based she lo...</td>\n",
       "      <td>1</td>\n",
       "    </tr>\n",
       "    <tr>\n",
       "      <th>4</th>\n",
       "      <td>!!!!!!!!!!!!! RT @ShenikaRoberts: The shit you...</td>\n",
       "      <td>1</td>\n",
       "    </tr>\n",
       "  </tbody>\n",
       "</table>\n",
       "</div>"
      ],
      "text/plain": [
       "                                               tweet  class\n",
       "0  !!! RT @mayasolovely: As a woman you shouldn't...      2\n",
       "1  !!!!! RT @mleew17: boy dats cold...tyga dwn ba...      1\n",
       "2  !!!!!!! RT @UrKindOfBrand Dawg!!!! RT @80sbaby...      1\n",
       "3  !!!!!!!!! RT @C_G_Anderson: @viva_based she lo...      1\n",
       "4  !!!!!!!!!!!!! RT @ShenikaRoberts: The shit you...      1"
      ]
     },
     "execution_count": 13,
     "metadata": {},
     "output_type": "execute_result"
    }
   ],
   "source": [
    "hateSpeech_df.head()"
   ]
  },
  {
   "cell_type": "code",
   "execution_count": 14,
   "id": "fe7aa90d",
   "metadata": {},
   "outputs": [],
   "source": [
    "#Renaming the columns \n",
    "violence_df.rename(columns={'tweet' : 'text', 'type' : 'label'},inplace=True)"
   ]
  },
  {
   "cell_type": "code",
   "execution_count": 15,
   "id": "8f24b66e",
   "metadata": {},
   "outputs": [],
   "source": [
    "hateSpeech_df.rename(columns = {'tweet' : 'text', 'class' : 'label'}, inplace = True)"
   ]
  },
  {
   "cell_type": "code",
   "execution_count": 16,
   "id": "f27eac83",
   "metadata": {},
   "outputs": [
    {
     "data": {
      "text/plain": [
       "(Index(['text', 'label'], dtype='object'),\n",
       " Index(['text', 'label'], dtype='object'),\n",
       " Index(['text', 'label'], dtype='object'))"
      ]
     },
     "execution_count": 16,
     "metadata": {},
     "output_type": "execute_result"
    }
   ],
   "source": [
    "emotion_df.columns , violence_df.columns, hateSpeech_df.columns"
   ]
  },
  {
   "cell_type": "code",
   "execution_count": 17,
   "id": "c123c15a",
   "metadata": {},
   "outputs": [
    {
     "data": {
      "text/plain": [
       "(text     0\n",
       " label    0\n",
       " dtype: int64,\n",
       " text     0\n",
       " label    0\n",
       " dtype: int64,\n",
       " text     0\n",
       " label    0\n",
       " dtype: int64)"
      ]
     },
     "execution_count": 17,
     "metadata": {},
     "output_type": "execute_result"
    }
   ],
   "source": [
    "#Checking for null values \n",
    "emotion_df.isna().sum(), violence_df.isna().sum(), hateSpeech_df.isna().sum()"
   ]
  },
  {
   "cell_type": "code",
   "execution_count": 18,
   "id": "e887be62",
   "metadata": {},
   "outputs": [
    {
     "data": {
      "text/plain": [
       "((416809, 2), (39650, 2), (24783, 2))"
      ]
     },
     "execution_count": 18,
     "metadata": {},
     "output_type": "execute_result"
    }
   ],
   "source": [
    "emotion_df.shape, violence_df.shape, hateSpeech_df.shape"
   ]
  },
  {
   "cell_type": "code",
   "execution_count": 19,
   "id": "6b8ba632",
   "metadata": {},
   "outputs": [
    {
     "data": {
      "text/plain": [
       "(1    141067\n",
       " 0    121187\n",
       " 3     57317\n",
       " 4     47712\n",
       " 2     34554\n",
       " 5     14972\n",
       " Name: label, dtype: int64,\n",
       " sexual_violence                 32648\n",
       " Physical_violence                5946\n",
       " emotional_violence                651\n",
       " economic_violence                 217\n",
       " Harmful_Traditional_practice      188\n",
       " Name: label, dtype: int64,\n",
       " 1    19190\n",
       " 2     4163\n",
       " 0     1430\n",
       " Name: label, dtype: int64)"
      ]
     },
     "execution_count": 19,
     "metadata": {},
     "output_type": "execute_result"
    }
   ],
   "source": [
    "#Extracting 12 thousand rows from each dataset \n",
    "emotion_df['label'].value_counts(), violence_df['label'].value_counts(), hateSpeech_df['label'].value_counts()"
   ]
  },
  {
   "cell_type": "code",
   "execution_count": 20,
   "id": "2d9f8ac8",
   "metadata": {},
   "outputs": [],
   "source": [
    "emotion = pd.DataFrame()\n",
    "for i in range(6):\n",
    "    subset = emotion_df[emotion_df['label'] == i].sample( n = 2000 , random_state = 42)\n",
    "    emotion = pd.concat([emotion,subset])"
   ]
  },
  {
   "cell_type": "code",
   "execution_count": 21,
   "id": "4a82bc47",
   "metadata": {},
   "outputs": [
    {
     "data": {
      "text/plain": [
       "(12000, 2)"
      ]
     },
     "execution_count": 21,
     "metadata": {},
     "output_type": "execute_result"
    }
   ],
   "source": [
    "emotion.shape"
   ]
  },
  {
   "cell_type": "code",
   "execution_count": 22,
   "id": "3a283343",
   "metadata": {},
   "outputs": [],
   "source": [
    "emotion_df = emotion.copy()"
   ]
  },
  {
   "cell_type": "code",
   "execution_count": 23,
   "id": "8151374e",
   "metadata": {},
   "outputs": [
    {
     "data": {
      "text/plain": [
       "0    2000\n",
       "1    2000\n",
       "2    2000\n",
       "3    2000\n",
       "4    2000\n",
       "5    2000\n",
       "Name: label, dtype: int64"
      ]
     },
     "execution_count": 23,
     "metadata": {},
     "output_type": "execute_result"
    }
   ],
   "source": [
    "emotion_df['label'].value_counts()"
   ]
  },
  {
   "cell_type": "code",
   "execution_count": 24,
   "id": "0311e45a",
   "metadata": {},
   "outputs": [
    {
     "data": {
      "text/plain": [
       "sexual_violence                 32648\n",
       "Physical_violence                5946\n",
       "emotional_violence                651\n",
       "economic_violence                 217\n",
       "Harmful_Traditional_practice      188\n",
       "Name: label, dtype: int64"
      ]
     },
     "execution_count": 24,
     "metadata": {},
     "output_type": "execute_result"
    }
   ],
   "source": [
    "violence_df['label'].value_counts()"
   ]
  },
  {
   "cell_type": "code",
   "execution_count": 25,
   "id": "5c49cc83",
   "metadata": {},
   "outputs": [],
   "source": [
    "sexual_violence = violence_df[violence_df['label'] == 'sexual_violence'].sample(n = 4998,random_state = 42)"
   ]
  },
  {
   "cell_type": "code",
   "execution_count": 26,
   "id": "50794e8a",
   "metadata": {},
   "outputs": [],
   "source": [
    "violence_df = violence_df[violence_df['label'] != 'sexual_violence']"
   ]
  },
  {
   "cell_type": "code",
   "execution_count": 27,
   "id": "0e0414e4",
   "metadata": {},
   "outputs": [
    {
     "data": {
      "text/plain": [
       "(7002, 2)"
      ]
     },
     "execution_count": 27,
     "metadata": {},
     "output_type": "execute_result"
    }
   ],
   "source": [
    "violence_df.shape"
   ]
  },
  {
   "cell_type": "code",
   "execution_count": 28,
   "id": "1de37213",
   "metadata": {},
   "outputs": [],
   "source": [
    "violence_df = pd.concat([violence_df,sexual_violence],axis = 0)"
   ]
  },
  {
   "cell_type": "code",
   "execution_count": 29,
   "id": "904a53af",
   "metadata": {},
   "outputs": [
    {
     "data": {
      "text/plain": [
       "(12000, 2)"
      ]
     },
     "execution_count": 29,
     "metadata": {},
     "output_type": "execute_result"
    }
   ],
   "source": [
    "violence_df.shape"
   ]
  },
  {
   "cell_type": "code",
   "execution_count": 30,
   "id": "aab566bb",
   "metadata": {},
   "outputs": [
    {
     "data": {
      "text/plain": [
       "Physical_violence               5946\n",
       "sexual_violence                 4998\n",
       "emotional_violence               651\n",
       "economic_violence                217\n",
       "Harmful_Traditional_practice     188\n",
       "Name: label, dtype: int64"
      ]
     },
     "execution_count": 30,
     "metadata": {},
     "output_type": "execute_result"
    }
   ],
   "source": [
    "violence_df['label'].value_counts()"
   ]
  },
  {
   "cell_type": "code",
   "execution_count": 31,
   "id": "3d4cd542",
   "metadata": {},
   "outputs": [
    {
     "data": {
      "text/plain": [
       "1    19190\n",
       "2     4163\n",
       "0     1430\n",
       "Name: label, dtype: int64"
      ]
     },
     "execution_count": 31,
     "metadata": {},
     "output_type": "execute_result"
    }
   ],
   "source": [
    "hateSpeech_df['label'].value_counts()"
   ]
  },
  {
   "cell_type": "code",
   "execution_count": 32,
   "id": "119ae4c2",
   "metadata": {},
   "outputs": [],
   "source": [
    "hateSpeech_df = pd.concat([hateSpeech_df[hateSpeech_df['label'] != 1],hateSpeech_df[hateSpeech_df['label'] == 1].sample(n = 6407, random_state = 42)],axis = 0)"
   ]
  },
  {
   "cell_type": "code",
   "execution_count": 33,
   "id": "05cc966d",
   "metadata": {},
   "outputs": [
    {
     "data": {
      "text/plain": [
       "1    6407\n",
       "2    4163\n",
       "0    1430\n",
       "Name: label, dtype: int64"
      ]
     },
     "execution_count": 33,
     "metadata": {},
     "output_type": "execute_result"
    }
   ],
   "source": [
    "hateSpeech_df['label'].value_counts()"
   ]
  },
  {
   "cell_type": "code",
   "execution_count": 34,
   "id": "82bbc5d1",
   "metadata": {},
   "outputs": [
    {
     "data": {
      "text/plain": [
       "(12000, 2)"
      ]
     },
     "execution_count": 34,
     "metadata": {},
     "output_type": "execute_result"
    }
   ],
   "source": [
    "hateSpeech_df.shape"
   ]
  },
  {
   "cell_type": "code",
   "execution_count": 35,
   "id": "f0b199ce",
   "metadata": {},
   "outputs": [
    {
     "data": {
      "text/plain": [
       "((12000, 2), (12000, 2), (12000, 2))"
      ]
     },
     "execution_count": 35,
     "metadata": {},
     "output_type": "execute_result"
    }
   ],
   "source": [
    "emotion_df.shape, violence_df.shape, hateSpeech_df.shape"
   ]
  },
  {
   "cell_type": "code",
   "execution_count": 36,
   "id": "9a3c9fa5",
   "metadata": {},
   "outputs": [
    {
     "data": {
      "text/html": [
       "<div>\n",
       "<style scoped>\n",
       "    .dataframe tbody tr th:only-of-type {\n",
       "        vertical-align: middle;\n",
       "    }\n",
       "\n",
       "    .dataframe tbody tr th {\n",
       "        vertical-align: top;\n",
       "    }\n",
       "\n",
       "    .dataframe thead th {\n",
       "        text-align: right;\n",
       "    }\n",
       "</style>\n",
       "<table border=\"1\" class=\"dataframe\">\n",
       "  <thead>\n",
       "    <tr style=\"text-align: right;\">\n",
       "      <th></th>\n",
       "      <th>text</th>\n",
       "      <th>label</th>\n",
       "    </tr>\n",
       "  </thead>\n",
       "  <tbody>\n",
       "    <tr>\n",
       "      <th>133243</th>\n",
       "      <td>ive learned to surround myself with women who ...</td>\n",
       "      <td>0</td>\n",
       "    </tr>\n",
       "    <tr>\n",
       "      <th>88501</th>\n",
       "      <td>i already feel crappy because of this and you ...</td>\n",
       "      <td>0</td>\n",
       "    </tr>\n",
       "    <tr>\n",
       "      <th>131379</th>\n",
       "      <td>i feel like i have lost mourned and moved past...</td>\n",
       "      <td>0</td>\n",
       "    </tr>\n",
       "    <tr>\n",
       "      <th>148369</th>\n",
       "      <td>i could write a whole lot more about why im fe...</td>\n",
       "      <td>0</td>\n",
       "    </tr>\n",
       "    <tr>\n",
       "      <th>134438</th>\n",
       "      <td>i always seem to feel inadequate</td>\n",
       "      <td>0</td>\n",
       "    </tr>\n",
       "  </tbody>\n",
       "</table>\n",
       "</div>"
      ],
      "text/plain": [
       "                                                     text  label\n",
       "133243  ive learned to surround myself with women who ...      0\n",
       "88501   i already feel crappy because of this and you ...      0\n",
       "131379  i feel like i have lost mourned and moved past...      0\n",
       "148369  i could write a whole lot more about why im fe...      0\n",
       "134438                   i always seem to feel inadequate      0"
      ]
     },
     "execution_count": 36,
     "metadata": {},
     "output_type": "execute_result"
    }
   ],
   "source": [
    "emotion_df.head()"
   ]
  },
  {
   "cell_type": "code",
   "execution_count": 37,
   "id": "e9ecd5d4",
   "metadata": {},
   "outputs": [
    {
     "data": {
      "text/html": [
       "<div>\n",
       "<style scoped>\n",
       "    .dataframe tbody tr th:only-of-type {\n",
       "        vertical-align: middle;\n",
       "    }\n",
       "\n",
       "    .dataframe tbody tr th {\n",
       "        vertical-align: top;\n",
       "    }\n",
       "\n",
       "    .dataframe thead th {\n",
       "        text-align: right;\n",
       "    }\n",
       "</style>\n",
       "<table border=\"1\" class=\"dataframe\">\n",
       "  <thead>\n",
       "    <tr style=\"text-align: right;\">\n",
       "      <th></th>\n",
       "      <th>text</th>\n",
       "      <th>label</th>\n",
       "    </tr>\n",
       "  </thead>\n",
       "  <tbody>\n",
       "    <tr>\n",
       "      <th>6</th>\n",
       "      <td>My Husband Beats Me Frequently, Wife Tells Cou...</td>\n",
       "      <td>Physical_violence</td>\n",
       "    </tr>\n",
       "    <tr>\n",
       "      <th>29</th>\n",
       "      <td>Best thing for me to do, is remain silent when...</td>\n",
       "      <td>Physical_violence</td>\n",
       "    </tr>\n",
       "    <tr>\n",
       "      <th>30</th>\n",
       "      <td>My husband will never beat me, Bambam denies r...</td>\n",
       "      <td>Physical_violence</td>\n",
       "    </tr>\n",
       "    <tr>\n",
       "      <th>33</th>\n",
       "      <td>theyre like, i just wanna be a baby maker with...</td>\n",
       "      <td>Physical_violence</td>\n",
       "    </tr>\n",
       "    <tr>\n",
       "      <th>35</th>\n",
       "      <td>I was in England for a week, the longest I’ve ...</td>\n",
       "      <td>Physical_violence</td>\n",
       "    </tr>\n",
       "  </tbody>\n",
       "</table>\n",
       "</div>"
      ],
      "text/plain": [
       "                                                 text              label\n",
       "6   My Husband Beats Me Frequently, Wife Tells Cou...  Physical_violence\n",
       "29  Best thing for me to do, is remain silent when...  Physical_violence\n",
       "30  My husband will never beat me, Bambam denies r...  Physical_violence\n",
       "33  theyre like, i just wanna be a baby maker with...  Physical_violence\n",
       "35  I was in England for a week, the longest I’ve ...  Physical_violence"
      ]
     },
     "execution_count": 37,
     "metadata": {},
     "output_type": "execute_result"
    }
   ],
   "source": [
    "violence_df.head()"
   ]
  },
  {
   "cell_type": "code",
   "execution_count": 38,
   "id": "dbdf265e",
   "metadata": {},
   "outputs": [
    {
     "data": {
      "text/html": [
       "<div>\n",
       "<style scoped>\n",
       "    .dataframe tbody tr th:only-of-type {\n",
       "        vertical-align: middle;\n",
       "    }\n",
       "\n",
       "    .dataframe tbody tr th {\n",
       "        vertical-align: top;\n",
       "    }\n",
       "\n",
       "    .dataframe thead th {\n",
       "        text-align: right;\n",
       "    }\n",
       "</style>\n",
       "<table border=\"1\" class=\"dataframe\">\n",
       "  <thead>\n",
       "    <tr style=\"text-align: right;\">\n",
       "      <th></th>\n",
       "      <th>text</th>\n",
       "      <th>label</th>\n",
       "    </tr>\n",
       "  </thead>\n",
       "  <tbody>\n",
       "    <tr>\n",
       "      <th>0</th>\n",
       "      <td>!!! RT @mayasolovely: As a woman you shouldn't...</td>\n",
       "      <td>2</td>\n",
       "    </tr>\n",
       "    <tr>\n",
       "      <th>40</th>\n",
       "      <td>\" momma said no pussy cats inside my doghouse \"</td>\n",
       "      <td>2</td>\n",
       "    </tr>\n",
       "    <tr>\n",
       "      <th>63</th>\n",
       "      <td>\"@Addicted2Guys: -SimplyAddictedToGuys http://...</td>\n",
       "      <td>2</td>\n",
       "    </tr>\n",
       "    <tr>\n",
       "      <th>66</th>\n",
       "      <td>\"@AllAboutManFeet: http://t.co/3gzUpfuMev\" woo...</td>\n",
       "      <td>2</td>\n",
       "    </tr>\n",
       "    <tr>\n",
       "      <th>67</th>\n",
       "      <td>\"@Allyhaaaaa: Lemmie eat a Oreo &amp;amp; do these...</td>\n",
       "      <td>2</td>\n",
       "    </tr>\n",
       "  </tbody>\n",
       "</table>\n",
       "</div>"
      ],
      "text/plain": [
       "                                                 text  label\n",
       "0   !!! RT @mayasolovely: As a woman you shouldn't...      2\n",
       "40    \" momma said no pussy cats inside my doghouse \"      2\n",
       "63  \"@Addicted2Guys: -SimplyAddictedToGuys http://...      2\n",
       "66  \"@AllAboutManFeet: http://t.co/3gzUpfuMev\" woo...      2\n",
       "67  \"@Allyhaaaaa: Lemmie eat a Oreo &amp; do these...      2"
      ]
     },
     "execution_count": 38,
     "metadata": {},
     "output_type": "execute_result"
    }
   ],
   "source": [
    "hateSpeech_df.head()"
   ]
  },
  {
   "cell_type": "code",
   "execution_count": 39,
   "id": "319bf593",
   "metadata": {},
   "outputs": [],
   "source": [
    "#RESETTING THE INDEX \n",
    "emotion_df.reset_index(drop = True, inplace = True)\n",
    "violence_df.reset_index(drop = True, inplace = True)\n",
    "hateSpeech_df.reset_index(drop = True, inplace = True)"
   ]
  },
  {
   "cell_type": "code",
   "execution_count": 40,
   "id": "65135673",
   "metadata": {},
   "outputs": [
    {
     "data": {
      "text/html": [
       "<div>\n",
       "<style scoped>\n",
       "    .dataframe tbody tr th:only-of-type {\n",
       "        vertical-align: middle;\n",
       "    }\n",
       "\n",
       "    .dataframe tbody tr th {\n",
       "        vertical-align: top;\n",
       "    }\n",
       "\n",
       "    .dataframe thead th {\n",
       "        text-align: right;\n",
       "    }\n",
       "</style>\n",
       "<table border=\"1\" class=\"dataframe\">\n",
       "  <thead>\n",
       "    <tr style=\"text-align: right;\">\n",
       "      <th></th>\n",
       "      <th>text</th>\n",
       "      <th>label</th>\n",
       "    </tr>\n",
       "  </thead>\n",
       "  <tbody>\n",
       "    <tr>\n",
       "      <th>0</th>\n",
       "      <td>ive learned to surround myself with women who ...</td>\n",
       "      <td>0</td>\n",
       "    </tr>\n",
       "    <tr>\n",
       "      <th>1</th>\n",
       "      <td>i already feel crappy because of this and you ...</td>\n",
       "      <td>0</td>\n",
       "    </tr>\n",
       "    <tr>\n",
       "      <th>2</th>\n",
       "      <td>i feel like i have lost mourned and moved past...</td>\n",
       "      <td>0</td>\n",
       "    </tr>\n",
       "    <tr>\n",
       "      <th>3</th>\n",
       "      <td>i could write a whole lot more about why im fe...</td>\n",
       "      <td>0</td>\n",
       "    </tr>\n",
       "    <tr>\n",
       "      <th>4</th>\n",
       "      <td>i always seem to feel inadequate</td>\n",
       "      <td>0</td>\n",
       "    </tr>\n",
       "  </tbody>\n",
       "</table>\n",
       "</div>"
      ],
      "text/plain": [
       "                                                text  label\n",
       "0  ive learned to surround myself with women who ...      0\n",
       "1  i already feel crappy because of this and you ...      0\n",
       "2  i feel like i have lost mourned and moved past...      0\n",
       "3  i could write a whole lot more about why im fe...      0\n",
       "4                   i always seem to feel inadequate      0"
      ]
     },
     "execution_count": 40,
     "metadata": {},
     "output_type": "execute_result"
    }
   ],
   "source": [
    "emotion_df.head()"
   ]
  },
  {
   "cell_type": "code",
   "execution_count": 41,
   "id": "361ff646",
   "metadata": {},
   "outputs": [
    {
     "data": {
      "text/html": [
       "<div>\n",
       "<style scoped>\n",
       "    .dataframe tbody tr th:only-of-type {\n",
       "        vertical-align: middle;\n",
       "    }\n",
       "\n",
       "    .dataframe tbody tr th {\n",
       "        vertical-align: top;\n",
       "    }\n",
       "\n",
       "    .dataframe thead th {\n",
       "        text-align: right;\n",
       "    }\n",
       "</style>\n",
       "<table border=\"1\" class=\"dataframe\">\n",
       "  <thead>\n",
       "    <tr style=\"text-align: right;\">\n",
       "      <th></th>\n",
       "      <th>text</th>\n",
       "      <th>label</th>\n",
       "    </tr>\n",
       "  </thead>\n",
       "  <tbody>\n",
       "    <tr>\n",
       "      <th>0</th>\n",
       "      <td>!!! RT @mayasolovely: As a woman you shouldn't...</td>\n",
       "      <td>2</td>\n",
       "    </tr>\n",
       "    <tr>\n",
       "      <th>1</th>\n",
       "      <td>\" momma said no pussy cats inside my doghouse \"</td>\n",
       "      <td>2</td>\n",
       "    </tr>\n",
       "    <tr>\n",
       "      <th>2</th>\n",
       "      <td>\"@Addicted2Guys: -SimplyAddictedToGuys http://...</td>\n",
       "      <td>2</td>\n",
       "    </tr>\n",
       "    <tr>\n",
       "      <th>3</th>\n",
       "      <td>\"@AllAboutManFeet: http://t.co/3gzUpfuMev\" woo...</td>\n",
       "      <td>2</td>\n",
       "    </tr>\n",
       "    <tr>\n",
       "      <th>4</th>\n",
       "      <td>\"@Allyhaaaaa: Lemmie eat a Oreo &amp;amp; do these...</td>\n",
       "      <td>2</td>\n",
       "    </tr>\n",
       "  </tbody>\n",
       "</table>\n",
       "</div>"
      ],
      "text/plain": [
       "                                                text  label\n",
       "0  !!! RT @mayasolovely: As a woman you shouldn't...      2\n",
       "1    \" momma said no pussy cats inside my doghouse \"      2\n",
       "2  \"@Addicted2Guys: -SimplyAddictedToGuys http://...      2\n",
       "3  \"@AllAboutManFeet: http://t.co/3gzUpfuMev\" woo...      2\n",
       "4  \"@Allyhaaaaa: Lemmie eat a Oreo &amp; do these...      2"
      ]
     },
     "execution_count": 41,
     "metadata": {},
     "output_type": "execute_result"
    }
   ],
   "source": [
    "hateSpeech_df.head()\n"
   ]
  },
  {
   "cell_type": "code",
   "execution_count": 42,
   "id": "9f5f877d",
   "metadata": {},
   "outputs": [
    {
     "data": {
      "text/html": [
       "<div>\n",
       "<style scoped>\n",
       "    .dataframe tbody tr th:only-of-type {\n",
       "        vertical-align: middle;\n",
       "    }\n",
       "\n",
       "    .dataframe tbody tr th {\n",
       "        vertical-align: top;\n",
       "    }\n",
       "\n",
       "    .dataframe thead th {\n",
       "        text-align: right;\n",
       "    }\n",
       "</style>\n",
       "<table border=\"1\" class=\"dataframe\">\n",
       "  <thead>\n",
       "    <tr style=\"text-align: right;\">\n",
       "      <th></th>\n",
       "      <th>text</th>\n",
       "      <th>label</th>\n",
       "    </tr>\n",
       "  </thead>\n",
       "  <tbody>\n",
       "    <tr>\n",
       "      <th>0</th>\n",
       "      <td>My Husband Beats Me Frequently, Wife Tells Cou...</td>\n",
       "      <td>Physical_violence</td>\n",
       "    </tr>\n",
       "    <tr>\n",
       "      <th>1</th>\n",
       "      <td>Best thing for me to do, is remain silent when...</td>\n",
       "      <td>Physical_violence</td>\n",
       "    </tr>\n",
       "    <tr>\n",
       "      <th>2</th>\n",
       "      <td>My husband will never beat me, Bambam denies r...</td>\n",
       "      <td>Physical_violence</td>\n",
       "    </tr>\n",
       "    <tr>\n",
       "      <th>3</th>\n",
       "      <td>theyre like, i just wanna be a baby maker with...</td>\n",
       "      <td>Physical_violence</td>\n",
       "    </tr>\n",
       "    <tr>\n",
       "      <th>4</th>\n",
       "      <td>I was in England for a week, the longest I’ve ...</td>\n",
       "      <td>Physical_violence</td>\n",
       "    </tr>\n",
       "  </tbody>\n",
       "</table>\n",
       "</div>"
      ],
      "text/plain": [
       "                                                text              label\n",
       "0  My Husband Beats Me Frequently, Wife Tells Cou...  Physical_violence\n",
       "1  Best thing for me to do, is remain silent when...  Physical_violence\n",
       "2  My husband will never beat me, Bambam denies r...  Physical_violence\n",
       "3  theyre like, i just wanna be a baby maker with...  Physical_violence\n",
       "4  I was in England for a week, the longest I’ve ...  Physical_violence"
      ]
     },
     "execution_count": 42,
     "metadata": {},
     "output_type": "execute_result"
    }
   ],
   "source": [
    "violence_df.head()"
   ]
  },
  {
   "cell_type": "markdown",
   "id": "9390549e",
   "metadata": {},
   "source": [
    "LABEL ENCODING"
   ]
  },
  {
   "cell_type": "code",
   "execution_count": 43,
   "id": "6ff42846",
   "metadata": {},
   "outputs": [],
   "source": [
    "label_encoder = LabelEncoder()\n",
    "violence_df['label'] = label_encoder.fit_transform(violence_df['label'])"
   ]
  },
  {
   "cell_type": "code",
   "execution_count": 44,
   "id": "f7edf70a",
   "metadata": {},
   "outputs": [
    {
     "data": {
      "text/plain": [
       "array([1, 3, 0, 2, 4])"
      ]
     },
     "execution_count": 44,
     "metadata": {},
     "output_type": "execute_result"
    }
   ],
   "source": [
    "violence_df['label'].unique()"
   ]
  },
  {
   "cell_type": "markdown",
   "id": "8c51bb29",
   "metadata": {},
   "source": [
    "Stop Words Removal"
   ]
  },
  {
   "cell_type": "code",
   "execution_count": 45,
   "id": "098eea3f",
   "metadata": {},
   "outputs": [
    {
     "name": "stderr",
     "output_type": "stream",
     "text": [
      "[nltk_data] Downloading package stopwords to\n",
      "[nltk_data]     /Users/prashantuprety/nltk_data...\n",
      "[nltk_data]   Package stopwords is already up-to-date!\n",
      "[nltk_data] Downloading package punkt to\n",
      "[nltk_data]     /Users/prashantuprety/nltk_data...\n",
      "[nltk_data]   Package punkt is already up-to-date!\n",
      "[nltk_data] Downloading package punkt_tab to\n",
      "[nltk_data]     /Users/prashantuprety/nltk_data...\n",
      "[nltk_data]   Package punkt_tab is already up-to-date!\n"
     ]
    },
    {
     "data": {
      "text/plain": [
       "True"
      ]
     },
     "execution_count": 45,
     "metadata": {},
     "output_type": "execute_result"
    }
   ],
   "source": [
    "nltk.download('stopwords')\n",
    "nltk.download('punkt')\n",
    "nltk.download('punkt_tab')"
   ]
  },
  {
   "cell_type": "code",
   "execution_count": 46,
   "id": "975634f9",
   "metadata": {},
   "outputs": [],
   "source": [
    "#LOADING STOPWORDS \n",
    "stop_words = set(stopwords.words('english'))"
   ]
  },
  {
   "cell_type": "code",
   "execution_count": 47,
   "id": "be6e680b",
   "metadata": {},
   "outputs": [
    {
     "data": {
      "text/plain": [
       "179"
      ]
     },
     "execution_count": 47,
     "metadata": {},
     "output_type": "execute_result"
    }
   ],
   "source": [
    "len(stop_words)"
   ]
  },
  {
   "cell_type": "code",
   "execution_count": 48,
   "id": "779866c6",
   "metadata": {},
   "outputs": [],
   "source": [
    "#FUNCTION TO REMOVE STOP WORDS \n",
    "def remove_stopwords(text):\n",
    "    all_words = nltk.word_tokenize(text)\n",
    "    filtered_words = [word for word in all_words if word.lower() not in stop_words]\n",
    "    return ' '.join(filtered_words)"
   ]
  },
  {
   "cell_type": "code",
   "execution_count": 49,
   "id": "91427d89",
   "metadata": {},
   "outputs": [],
   "source": [
    "emotion_df['text'] = emotion_df['text'].apply(remove_stopwords)"
   ]
  },
  {
   "cell_type": "code",
   "execution_count": 50,
   "id": "4067efbb",
   "metadata": {},
   "outputs": [],
   "source": [
    "violence_df['text'] = violence_df['text'].apply(remove_stopwords)\n"
   ]
  },
  {
   "cell_type": "code",
   "execution_count": 51,
   "id": "b2cae31c",
   "metadata": {},
   "outputs": [],
   "source": [
    "hateSpeech_df['text'] = hateSpeech_df['text'].apply(remove_stopwords)"
   ]
  },
  {
   "cell_type": "code",
   "execution_count": 52,
   "id": "0b4bf281",
   "metadata": {},
   "outputs": [
    {
     "data": {
      "text/html": [
       "<div>\n",
       "<style scoped>\n",
       "    .dataframe tbody tr th:only-of-type {\n",
       "        vertical-align: middle;\n",
       "    }\n",
       "\n",
       "    .dataframe tbody tr th {\n",
       "        vertical-align: top;\n",
       "    }\n",
       "\n",
       "    .dataframe thead th {\n",
       "        text-align: right;\n",
       "    }\n",
       "</style>\n",
       "<table border=\"1\" class=\"dataframe\">\n",
       "  <thead>\n",
       "    <tr style=\"text-align: right;\">\n",
       "      <th></th>\n",
       "      <th>text</th>\n",
       "      <th>label</th>\n",
       "    </tr>\n",
       "  </thead>\n",
       "  <tbody>\n",
       "    <tr>\n",
       "      <th>0</th>\n",
       "      <td>ive learned surround women lift leave feeling ...</td>\n",
       "      <td>0</td>\n",
       "    </tr>\n",
       "    <tr>\n",
       "      <th>1</th>\n",
       "      <td>already feel crappy upset situation doesnt help</td>\n",
       "      <td>0</td>\n",
       "    </tr>\n",
       "    <tr>\n",
       "      <th>2</th>\n",
       "      <td>feel like lost mourned moved past tears relati...</td>\n",
       "      <td>0</td>\n",
       "    </tr>\n",
       "    <tr>\n",
       "      <th>3</th>\n",
       "      <td>could write whole lot im feeling crappy dont t...</td>\n",
       "      <td>0</td>\n",
       "    </tr>\n",
       "    <tr>\n",
       "      <th>4</th>\n",
       "      <td>always seem feel inadequate</td>\n",
       "      <td>0</td>\n",
       "    </tr>\n",
       "  </tbody>\n",
       "</table>\n",
       "</div>"
      ],
      "text/plain": [
       "                                                text  label\n",
       "0  ive learned surround women lift leave feeling ...      0\n",
       "1    already feel crappy upset situation doesnt help      0\n",
       "2  feel like lost mourned moved past tears relati...      0\n",
       "3  could write whole lot im feeling crappy dont t...      0\n",
       "4                        always seem feel inadequate      0"
      ]
     },
     "execution_count": 52,
     "metadata": {},
     "output_type": "execute_result"
    }
   ],
   "source": [
    "emotion_df.head()"
   ]
  },
  {
   "cell_type": "markdown",
   "id": "afa77d6d",
   "metadata": {},
   "source": [
    "Tokenization And Padding"
   ]
  },
  {
   "cell_type": "code",
   "execution_count": 53,
   "id": "a2d4df20",
   "metadata": {},
   "outputs": [],
   "source": [
    "tokenizer = Tokenizer()\n",
    "tokenizer.fit_on_texts(pd.concat([emotion_df['text'],violence_df['text'],hateSpeech_df['text']]))"
   ]
  },
  {
   "cell_type": "code",
   "execution_count": 54,
   "id": "3129e6a7",
   "metadata": {},
   "outputs": [],
   "source": [
    "emotion_sequences = tokenizer.texts_to_sequences(emotion_df['text'])"
   ]
  },
  {
   "cell_type": "code",
   "execution_count": 55,
   "id": "f7722344",
   "metadata": {},
   "outputs": [],
   "source": [
    "violence_sequences = tokenizer.texts_to_sequences(violence_df['text'])"
   ]
  },
  {
   "cell_type": "code",
   "execution_count": 56,
   "id": "32c3b565",
   "metadata": {},
   "outputs": [],
   "source": [
    "hateSpeech_sequences = tokenizer.texts_to_sequences(hateSpeech_df['text'])"
   ]
  },
  {
   "cell_type": "code",
   "execution_count": 57,
   "id": "0c820021",
   "metadata": {},
   "outputs": [
    {
     "data": {
      "text/plain": [
       "'feel like lost mourned moved past tears relationship'"
      ]
     },
     "execution_count": 57,
     "metadata": {},
     "output_type": "execute_result"
    }
   ],
   "source": [
    "emotion_df['text'].iloc[2]"
   ]
  },
  {
   "cell_type": "code",
   "execution_count": 58,
   "id": "1b1a551e",
   "metadata": {},
   "outputs": [
    {
     "data": {
      "text/plain": [
       "[[1, 5, 321, 11854, 1207, 422, 1093, 385]]"
      ]
     },
     "execution_count": 58,
     "metadata": {},
     "output_type": "execute_result"
    }
   ],
   "source": [
    "emotion_sequences[2:3]"
   ]
  },
  {
   "cell_type": "code",
   "execution_count": 59,
   "id": "a46f05b4",
   "metadata": {},
   "outputs": [],
   "source": [
    "max_length = 50\n",
    "emotion_pad = pad_sequences(emotion_sequences,maxlen = max_length,padding = 'post')\n",
    "violence_pad = pad_sequences(violence_sequences,maxlen = max_length,padding = 'post')\n",
    "hateSpeech_pad = pad_sequences(hateSpeech_sequences,maxlen = max_length,padding = 'post')"
   ]
  },
  {
   "cell_type": "code",
   "execution_count": 60,
   "id": "395a30d9",
   "metadata": {},
   "outputs": [
    {
     "data": {
      "text/plain": [
       "array([[    1,     5,   321, 11854,  1207,   422,  1093,   385,     0,\n",
       "            0,     0,     0,     0,     0,     0,     0,     0,     0,\n",
       "            0,     0,     0,     0,     0,     0,     0,     0,     0,\n",
       "            0,     0,     0,     0,     0,     0,     0,     0,     0,\n",
       "            0,     0,     0,     0,     0,     0,     0,     0,     0,\n",
       "            0,     0,     0,     0,     0]], dtype=int32)"
      ]
     },
     "execution_count": 60,
     "metadata": {},
     "output_type": "execute_result"
    }
   ],
   "source": [
    "emotion_pad[2:3]"
   ]
  },
  {
   "cell_type": "code",
   "execution_count": 61,
   "id": "a02c2bab",
   "metadata": {},
   "outputs": [],
   "source": [
    "#GENERATING LABELS IN NUMPY ARRAY FORMAT \n",
    "emotion_labels = np.array(emotion_df['label'])\n",
    "violence_labels = np.array(violence_df['label'])\n",
    "hateSpeech_labels = np.array(hateSpeech_df['label'])"
   ]
  },
  {
   "cell_type": "markdown",
   "id": "92a47371",
   "metadata": {},
   "source": [
    "Model Architecture "
   ]
  },
  {
   "cell_type": "code",
   "execution_count": 62,
   "id": "ae821ee1",
   "metadata": {},
   "outputs": [],
   "source": [
    "emotion_input = emotion_pad\n",
    "violence_input = violence_pad\n",
    "hateSpeech_input = hateSpeech_pad"
   ]
  },
  {
   "cell_type": "code",
   "execution_count": 63,
   "id": "799711c7",
   "metadata": {},
   "outputs": [],
   "source": [
    "#MULTIPLE INPUT LAYERS \n",
    "emotion_input_layer = keras.layers.Input(shape = (max_length), name = 'emotion_input')\n",
    "violence_input_layer = keras.layers.Input(shape=(max_length), name='violence_input')\n",
    "hateSpeech_input_layer = keras.layers.Input(shape=(max_length),name='hateSpeech_input')"
   ]
  },
  {
   "cell_type": "code",
   "execution_count": 64,
   "id": "cb1cee63",
   "metadata": {},
   "outputs": [],
   "source": [
    "#SHARED LAYER \n",
    "embedding_layer = keras.layers.Embedding(input_dim = len(tokenizer.word_index) + 1, output_dim = 128 )"
   ]
  },
  {
   "cell_type": "code",
   "execution_count": 65,
   "id": "fe41bc33",
   "metadata": {},
   "outputs": [
    {
     "name": "stdout",
     "output_type": "stream",
     "text": [
      "Metal device set to: Apple M1\n"
     ]
    },
    {
     "name": "stderr",
     "output_type": "stream",
     "text": [
      "2024-09-25 13:24:35.397191: I tensorflow/core/common_runtime/pluggable_device/pluggable_device_factory.cc:306] Could not identify NUMA node of platform GPU ID 0, defaulting to 0. Your kernel may not have been built with NUMA support.\n",
      "2024-09-25 13:24:35.398101: I tensorflow/core/common_runtime/pluggable_device/pluggable_device_factory.cc:272] Created TensorFlow device (/job:localhost/replica:0/task:0/device:GPU:0 with 0 MB memory) -> physical PluggableDevice (device: 0, name: METAL, pci bus id: <undefined>)\n"
     ]
    }
   ],
   "source": [
    "##APPLY THE SHARED LAYER TO EACH INPUT \n",
    "emotion_shared = embedding_layer(emotion_input_layer)\n",
    "violence_shared = embedding_layer(violence_input_layer)\n",
    "hateSpeech_shared = embedding_layer(hateSpeech_input_layer)"
   ]
  },
  {
   "cell_type": "code",
   "execution_count": 66,
   "id": "aa17a388",
   "metadata": {},
   "outputs": [],
   "source": [
    "#SHARED LSTM LAYER \n",
    "shared_lstm = keras.layers.LSTM(64, return_sequences= True)"
   ]
  },
  {
   "cell_type": "code",
   "execution_count": 67,
   "id": "7d36e445",
   "metadata": {},
   "outputs": [],
   "source": [
    "emotion_lstm = shared_lstm(emotion_shared)\n",
    "violence_lstm = shared_lstm(violence_shared)\n",
    "hateSpeech_lstm = shared_lstm(hateSpeech_shared)"
   ]
  },
  {
   "cell_type": "code",
   "execution_count": 68,
   "id": "293cb323",
   "metadata": {},
   "outputs": [],
   "source": [
    "#SHARED GLOBAL POOLING AND DROPOUT LAYER \n",
    "shared_pooling = keras.layers.GlobalAveragePooling1D()\n",
    "shared_dropout = keras.layers.Dropout(0.5)"
   ]
  },
  {
   "cell_type": "code",
   "execution_count": 69,
   "id": "860b1385",
   "metadata": {},
   "outputs": [],
   "source": [
    "emotion_features  = shared_dropout(shared_pooling(emotion_lstm))\n",
    "violence_features  = shared_dropout(shared_pooling(violence_lstm))\n",
    "hateSpeech_features  = shared_dropout(shared_pooling(hateSpeech_lstm))"
   ]
  },
  {
   "cell_type": "code",
   "execution_count": 70,
   "id": "57c5f6d3",
   "metadata": {},
   "outputs": [
    {
     "name": "stdout",
     "output_type": "stream",
     "text": [
      "6\n",
      "5\n",
      "3\n"
     ]
    }
   ],
   "source": [
    "print(len(emotion_df['label'].unique()))\n",
    "print(len(violence_df['label'].unique()))\n",
    "print(len(hateSpeech_df['label'].unique()))"
   ]
  },
  {
   "cell_type": "code",
   "execution_count": 71,
   "id": "c5dcd4b4",
   "metadata": {},
   "outputs": [],
   "source": [
    "#OUTPUT LAYERS \n",
    "emotion_output = keras.layers.Dense(6,activation = 'softmax',name='emotion_output')(emotion_features)\n",
    "violence_output = keras.layers.Dense(5,activation = 'softmax',name='violence_output')(violence_features)\n",
    "hateSpeech_output = keras.layers.Dense(3,activation = 'softmax',name='hateSpeech_output')(hateSpeech_features)"
   ]
  },
  {
   "cell_type": "code",
   "execution_count": 72,
   "id": "8a5ddca9",
   "metadata": {},
   "outputs": [],
   "source": [
    "#COMPILING THE MODEL\n",
    "model = keras.models.Model(inputs = [emotion_input_layer,violence_input_layer,hateSpeech_input_layer],\n",
    "                          outputs = [emotion_output, violence_output, hateSpeech_output])\n",
    "model.compile(optimizer = 'adam', loss = {'emotion_output' : 'sparse_categorical_crossentropy',\n",
    "                                         'violence_output' : 'sparse_categorical_crossentropy',\n",
    "                                         'hateSpeech_output' : 'sparse_categorical_crossentropy'},\n",
    "             metrics = {'emotion_output' : 'accuracy',\n",
    "                                         'violence_output' : 'accuracy',\n",
    "                                         'hateSpeech_output' : 'accuracy'})"
   ]
  },
  {
   "cell_type": "code",
   "execution_count": 73,
   "id": "994e1a58",
   "metadata": {},
   "outputs": [
    {
     "name": "stdout",
     "output_type": "stream",
     "text": [
      "Model: \"model\"\n",
      "__________________________________________________________________________________________________\n",
      " Layer (type)                   Output Shape         Param #     Connected to                     \n",
      "==================================================================================================\n",
      " emotion_input (InputLayer)     [(None, 50)]         0           []                               \n",
      "                                                                                                  \n",
      " violence_input (InputLayer)    [(None, 50)]         0           []                               \n",
      "                                                                                                  \n",
      " hateSpeech_input (InputLayer)  [(None, 50)]         0           []                               \n",
      "                                                                                                  \n",
      " embedding (Embedding)          (None, 50, 128)      5350528     ['emotion_input[0][0]',          \n",
      "                                                                  'violence_input[0][0]',         \n",
      "                                                                  'hateSpeech_input[0][0]']       \n",
      "                                                                                                  \n",
      " lstm (LSTM)                    (None, 50, 64)       49408       ['embedding[0][0]',              \n",
      "                                                                  'embedding[1][0]',              \n",
      "                                                                  'embedding[2][0]']              \n",
      "                                                                                                  \n",
      " global_average_pooling1d (Glob  (None, 64)          0           ['lstm[0][0]',                   \n",
      " alAveragePooling1D)                                              'lstm[1][0]',                   \n",
      "                                                                  'lstm[2][0]']                   \n",
      "                                                                                                  \n",
      " dropout (Dropout)              (None, 64)           0           ['global_average_pooling1d[0][0]'\n",
      "                                                                 , 'global_average_pooling1d[1][0]\n",
      "                                                                 ',                               \n",
      "                                                                  'global_average_pooling1d[2][0]'\n",
      "                                                                 ]                                \n",
      "                                                                                                  \n",
      " emotion_output (Dense)         (None, 6)            390         ['dropout[0][0]']                \n",
      "                                                                                                  \n",
      " violence_output (Dense)        (None, 5)            325         ['dropout[1][0]']                \n",
      "                                                                                                  \n",
      " hateSpeech_output (Dense)      (None, 3)            195         ['dropout[2][0]']                \n",
      "                                                                                                  \n",
      "==================================================================================================\n",
      "Total params: 5,400,846\n",
      "Trainable params: 5,400,846\n",
      "Non-trainable params: 0\n",
      "__________________________________________________________________________________________________\n"
     ]
    }
   ],
   "source": [
    "model.summary()"
   ]
  },
  {
   "cell_type": "code",
   "execution_count": 74,
   "id": "d35a9335",
   "metadata": {},
   "outputs": [
    {
     "name": "stdout",
     "output_type": "stream",
     "text": [
      "Epoch 1/10\n"
     ]
    },
    {
     "name": "stderr",
     "output_type": "stream",
     "text": [
      "2024-09-25 13:24:43.195754: W tensorflow/core/platform/profile_utils/cpu_utils.cc:128] Failed to get CPU frequency: 0 Hz\n",
      "2024-09-25 13:24:44.390705: I tensorflow/core/grappler/optimizers/custom_graph_optimizer_registry.cc:114] Plugin optimizer for device_type GPU is enabled.\n",
      "2024-09-25 13:24:44.673367: I tensorflow/core/grappler/optimizers/custom_graph_optimizer_registry.cc:114] Plugin optimizer for device_type GPU is enabled.\n",
      "2024-09-25 13:24:44.679537: I tensorflow/core/grappler/optimizers/custom_graph_optimizer_registry.cc:114] Plugin optimizer for device_type GPU is enabled.\n",
      "2024-09-25 13:24:44.752165: I tensorflow/core/grappler/optimizers/custom_graph_optimizer_registry.cc:114] Plugin optimizer for device_type GPU is enabled.\n",
      "2024-09-25 13:24:45.655278: I tensorflow/core/grappler/optimizers/custom_graph_optimizer_registry.cc:114] Plugin optimizer for device_type GPU is enabled.\n",
      "2024-09-25 13:24:45.687923: I tensorflow/core/grappler/optimizers/custom_graph_optimizer_registry.cc:114] Plugin optimizer for device_type GPU is enabled.\n",
      "2024-09-25 13:24:45.708822: I tensorflow/core/grappler/optimizers/custom_graph_optimizer_registry.cc:114] Plugin optimizer for device_type GPU is enabled.\n"
     ]
    },
    {
     "name": "stdout",
     "output_type": "stream",
     "text": [
      "3000/3000 [==============================] - 210s 68ms/step - loss: 2.0221 - emotion_output_loss: 1.2779 - violence_output_loss: 0.1949 - hateSpeech_output_loss: 0.5493 - emotion_output_accuracy: 0.4782 - violence_output_accuracy: 0.9334 - hateSpeech_output_accuracy: 0.7995\n",
      "Epoch 2/10\n",
      "3000/3000 [==============================] - 208s 69ms/step - loss: 0.8003 - emotion_output_loss: 0.4255 - violence_output_loss: 0.0321 - hateSpeech_output_loss: 0.3428 - emotion_output_accuracy: 0.8759 - violence_output_accuracy: 0.9929 - hateSpeech_output_accuracy: 0.8833\n",
      "Epoch 3/10\n",
      "3000/3000 [==============================] - 202s 67ms/step - loss: 0.4204 - emotion_output_loss: 0.2051 - violence_output_loss: 0.0096 - hateSpeech_output_loss: 0.2058 - emotion_output_accuracy: 0.9371 - violence_output_accuracy: 0.9980 - hateSpeech_output_accuracy: 0.9287\n",
      "Epoch 4/10\n",
      "3000/3000 [==============================] - 203s 68ms/step - loss: 0.2399 - emotion_output_loss: 0.1236 - violence_output_loss: 0.0061 - hateSpeech_output_loss: 0.1103 - emotion_output_accuracy: 0.9563 - violence_output_accuracy: 0.9986 - hateSpeech_output_accuracy: 0.9622\n",
      "Epoch 5/10\n",
      "3000/3000 [==============================] - 196s 65ms/step - loss: 0.1481 - emotion_output_loss: 0.0858 - violence_output_loss: 0.0032 - hateSpeech_output_loss: 0.0592 - emotion_output_accuracy: 0.9705 - violence_output_accuracy: 0.9991 - hateSpeech_output_accuracy: 0.9801\n",
      "Epoch 6/10\n",
      "3000/3000 [==============================] - 194s 65ms/step - loss: 0.0950 - emotion_output_loss: 0.0587 - violence_output_loss: 0.0012 - hateSpeech_output_loss: 0.0351 - emotion_output_accuracy: 0.9785 - violence_output_accuracy: 0.9997 - hateSpeech_output_accuracy: 0.9876\n",
      "Epoch 7/10\n",
      "3000/3000 [==============================] - 192s 64ms/step - loss: 0.0641 - emotion_output_loss: 0.0429 - violence_output_loss: 4.7026e-04 - hateSpeech_output_loss: 0.0207 - emotion_output_accuracy: 0.9834 - violence_output_accuracy: 0.9999 - hateSpeech_output_accuracy: 0.9924\n",
      "Epoch 8/10\n",
      "3000/3000 [==============================] - 193s 64ms/step - loss: 0.0525 - emotion_output_loss: 0.0376 - violence_output_loss: 2.4466e-04 - hateSpeech_output_loss: 0.0146 - emotion_output_accuracy: 0.9866 - violence_output_accuracy: 1.0000 - hateSpeech_output_accuracy: 0.9945\n",
      "Epoch 9/10\n",
      "3000/3000 [==============================] - 188s 63ms/step - loss: 0.0404 - emotion_output_loss: 0.0292 - violence_output_loss: 2.2882e-04 - hateSpeech_output_loss: 0.0110 - emotion_output_accuracy: 0.9887 - violence_output_accuracy: 0.9999 - hateSpeech_output_accuracy: 0.9957\n",
      "Epoch 10/10\n",
      "3000/3000 [==============================] - 188s 63ms/step - loss: 0.0316 - emotion_output_loss: 0.0247 - violence_output_loss: 5.0239e-04 - hateSpeech_output_loss: 0.0063 - emotion_output_accuracy: 0.9895 - violence_output_accuracy: 0.9998 - hateSpeech_output_accuracy: 0.9975\n"
     ]
    },
    {
     "data": {
      "text/plain": [
       "<keras.callbacks.History at 0x29d8aebf0>"
      ]
     },
     "execution_count": 74,
     "metadata": {},
     "output_type": "execute_result"
    }
   ],
   "source": [
    "#TRAINING MODEL\n",
    "model.fit(x = {'emotion_input' : emotion_input, 'violence_input' : violence_input, 'hateSpeech_input' : hateSpeech_input},\n",
    "         y = {'emotion_output' : emotion_labels, 'violence_output' : violence_labels, 'hateSpeech_output' : hateSpeech_labels},\n",
    "         epochs = 10,\n",
    "         batch_size = 4 )"
   ]
  },
  {
   "cell_type": "code",
   "execution_count": 75,
   "id": "61798314",
   "metadata": {},
   "outputs": [
    {
     "name": "stderr",
     "output_type": "stream",
     "text": [
      "2024-09-25 14:42:57.714742: I tensorflow/core/grappler/optimizers/custom_graph_optimizer_registry.cc:114] Plugin optimizer for device_type GPU is enabled.\n",
      "2024-09-25 14:42:57.891976: I tensorflow/core/grappler/optimizers/custom_graph_optimizer_registry.cc:114] Plugin optimizer for device_type GPU is enabled.\n",
      "2024-09-25 14:42:57.895428: I tensorflow/core/grappler/optimizers/custom_graph_optimizer_registry.cc:114] Plugin optimizer for device_type GPU is enabled.\n",
      "2024-09-25 14:42:57.907219: I tensorflow/core/grappler/optimizers/custom_graph_optimizer_registry.cc:114] Plugin optimizer for device_type GPU is enabled.\n"
     ]
    },
    {
     "name": "stdout",
     "output_type": "stream",
     "text": [
      "375/375 [==============================] - 10s 22ms/step\n"
     ]
    }
   ],
   "source": [
    "prediction = model.predict({'emotion_input' : emotion_input, 'violence_input' : violence_input, 'hateSpeech_input' : hateSpeech_input})"
   ]
  },
  {
   "cell_type": "code",
   "execution_count": 76,
   "id": "fce39daa",
   "metadata": {},
   "outputs": [],
   "source": [
    "emotion_pred = np.argmax(prediction[0],axis = 1 )\n",
    "violence_pred = np.argmax(prediction[1],axis = 1 )\n",
    "hateSpeech_pred = np.argmax(prediction[2],axis = 1 )"
   ]
  },
  {
   "cell_type": "code",
   "execution_count": 77,
   "id": "1ab5547f",
   "metadata": {},
   "outputs": [
    {
     "data": {
      "text/plain": [
       "array([2, 0, 1])"
      ]
     },
     "execution_count": 77,
     "metadata": {},
     "output_type": "execute_result"
    }
   ],
   "source": [
    "hateSpeech_df['label'].unique()"
   ]
  },
  {
   "cell_type": "code",
   "execution_count": 78,
   "id": "0aac0b51",
   "metadata": {},
   "outputs": [],
   "source": [
    "def plot_cm(true, pred, title, labels):\n",
    "  cf = confusion_matrix(true, pred, normalize = 'true')\n",
    "  plt.figure(figsize = (7, 6))\n",
    "  sns.heatmap(cf, annot = True, cmap = 'Blues', xticklabels=labels, yticklabels = labels)\n",
    "  plt.title(title)\n",
    "  plt.ylabel('Actual')\n",
    "  plt.xlabel('Prediction')\n",
    "\n",
    "emotion_labels_text = ['sadness', 'joy', 'love', 'anger', 'fear', 'surprise']\n",
    "violence_labels_text = ['physical_violence','emotional_violence','Harmful_traditional_practice', 'economic violence','sexual_violence'  ]\n",
    "hateSpeech_labels_text = [ 'Neither', 'Hate Speech','offensive speech']"
   ]
  },
  {
   "cell_type": "code",
   "execution_count": 79,
   "id": "0996d6b1",
   "metadata": {},
   "outputs": [
    {
     "data": {
      "image/png": "[encoded data removed]",
      "text/plain": [
       "<Figure size 700x600 with 2 Axes>"
      ]
     },
     "metadata": {},
     "output_type": "display_data"
    },
    {
     "data": {
      "image/png": "[encoded data removed]",
      "text/plain": [
       "<Figure size 700x600 with 2 Axes>"
      ]
     },
     "metadata": {},
     "output_type": "display_data"
    },
    {
     "data": {
      "image/png": "[encoded data removed]",
      "text/plain": [
       "<Figure size 700x600 with 2 Axes>"
      ]
     },
     "metadata": {},
     "output_type": "display_data"
    }
   ],
   "source": [
    "plot_cm(emotion_labels, emotion_pred, 'Confusion Matrix for Emotion', emotion_labels_text)\n",
    "plot_cm(violence_labels, violence_pred, 'Confusion Matrix for violence', violence_labels_text)\n",
    "plot_cm(hateSpeech_labels, hateSpeech_pred, 'Confusion Matrix for Hate', hateSpeech_labels_text)"
   ]
  },
  {
   "cell_type": "code",
   "execution_count": null,
   "id": "ed56bfc4",
   "metadata": {},
   "outputs": [],
   "source": []
  },
  {
   "cell_type": "code",
   "execution_count": 80,
   "id": "79b437c0",
   "metadata": {},
   "outputs": [],
   "source": [
    "def classify_text(input_text):\n",
    "  #preprocess the input text\n",
    "  input_text_cleaned = remove_stopwords(input_text)\n",
    "  input_sequence = tokenizer.texts_to_sequences([input_text_cleaned])\n",
    "  input_padded = pad_sequences(input_sequence, maxlen = max_length, padding = 'post')\n",
    "\n",
    "  #prediction\n",
    "  predictions = model.predict({'emotion_input' : input_padded,\n",
    "                            'violence_input' : input_padded,\n",
    "                            'hateSpeech_input' : input_padded})\n",
    "  emotion_pred = np.argmax(predictions[0], axis = 1)[0]\n",
    "  violence_pred = np.argmax(predictions[1], axis = 1)[0]\n",
    "  hateSpeech_pred = np.argmax(predictions[2], axis = 1)[0]\n",
    "\n",
    "  #determine major label\n",
    "  major_labels = ['Emotion', 'Violence', 'Hate']\n",
    "  major_label_index = np.argmax([np.max(predictions[0]), np.max(predictions[1]), np.max(predictions[2])])\n",
    "  major_label = major_labels[major_label_index]\n",
    "\n",
    "  #determing sub - labels\n",
    "  emotion_labels_text = ['sadness', 'joy', 'love', 'anger', 'fear', 'surprise']\n",
    "  violence_labels_text = ['sexual_violence', 'physical_violence', 'emotional_violence', 'Harmful_traditional_practice', 'economic violence']\n",
    "  hateSpeech_labels_text =  ['Neither', 'Hate Speech','offensive speech']\n",
    "\n",
    "  if major_label == 'Emotion':\n",
    "    sub_label = emotion_labels_text[emotion_pred]\n",
    "  elif major_label == 'Violence':\n",
    "    sub_label = violence_labels_text[violence_pred]\n",
    "  else:\n",
    "    sub_label = hateSpeech_labels_text[hateSpeech_pred]\n",
    "\n",
    "  return major_label, sub_label"
   ]
  },
  {
   "cell_type": "code",
   "execution_count": 81,
   "id": "54fa9b5a",
   "metadata": {},
   "outputs": [],
   "source": [
    "import ipywidgets as widgets\n",
    "from IPython.display import display"
   ]
  },
  {
   "cell_type": "code",
   "execution_count": 82,
   "id": "6471c577",
   "metadata": {},
   "outputs": [],
   "source": [
    "#define a text widget and a placeholder\n",
    "input_text_widget = widgets.Text(\n",
    "    description = 'Input text : ',\n",
    "    placeholder = 'Enter you text'\n",
    ")"
   ]
  },
  {
   "cell_type": "code",
   "execution_count": 83,
   "id": "900202f5",
   "metadata": {},
   "outputs": [],
   "source": [
    "#define classify button\n",
    "button = widgets.Button(description = 'classify')"
   ]
  },
  {
   "cell_type": "code",
   "execution_count": 84,
   "id": "95d274ea",
   "metadata": {},
   "outputs": [],
   "source": [
    "#define an output area to display result\n",
    "output = widgets.Output()"
   ]
  },
  {
   "cell_type": "code",
   "execution_count": 85,
   "id": "5cea13a2",
   "metadata": {},
   "outputs": [],
   "source": [
    "#function to handle event\n",
    "def on_button_click(b):\n",
    "  with output:\n",
    "    output.clear_output()   #clear the previous output\n",
    "    input_text = input_text_widget.value\n",
    "    major_label, sub_label = classify_text(input_text)\n",
    "    print(f'Major Label : {major_label}')\n",
    "    print(f'Sub Label : {sub_label}')\n",
    "\n",
    "#attach the button at bottom\n",
    "button.on_click(on_button_click)"
   ]
  },
  {
   "cell_type": "code",
   "execution_count": 86,
   "id": "2150f0f5",
   "metadata": {},
   "outputs": [
    {
     "data": {
      "application/vnd.jupyter.widget-view+json": {
       "model_id": "00c0b04e3d5e4e36b0ec4dc5d7eb58e7",
       "version_major": 2,
       "version_minor": 0
      },
      "text/plain": [
       "Text(value='', description='Input text : ', placeholder='Enter you text')"
      ]
     },
     "metadata": {},
     "output_type": "display_data"
    },
    {
     "data": {
      "application/vnd.jupyter.widget-view+json": {
       "model_id": "852410669af24c108df5e00b3b1638b2",
       "version_major": 2,
       "version_minor": 0
      },
      "text/plain": [
       "Button(description='classify', style=ButtonStyle())"
      ]
     },
     "metadata": {},
     "output_type": "display_data"
    },
    {
     "data": {
      "application/vnd.jupyter.widget-view+json": {
       "model_id": "f53c82504cf744e39f9f0f384cf725e4",
       "version_major": 2,
       "version_minor": 0
      },
      "text/plain": [
       "Output()"
      ]
     },
     "metadata": {},
     "output_type": "display_data"
    }
   ],
   "source": [
    "display(input_text_widget, button, output)"
   ]
  },
  {
   "cell_type": "code",
   "execution_count": null,
   "id": "e408fb49",
   "metadata": {},
   "outputs": [],
   "source": []
  },
  {
   "cell_type": "code",
   "execution_count": null,
   "id": "887b0c56",
   "metadata": {},
   "outputs": [],
   "source": []
  }
 ],
 "metadata": {
  "kernelspec": {
   "display_name": "Py37",
   "language": "python",
   "name": "py37"
  },
  "language_info": {
   "codemirror_mode": {
    "name": "ipython",
    "version": 3
   },
   "file_extension": ".py",
   "mimetype": "text/x-python",
   "name": "python",
   "nbconvert_exporter": "python",
   "pygments_lexer": "ipython3",
   "version": "3.10.6"
  }
 },
 "nbformat": 4,
 "nbformat_minor": 5
}
